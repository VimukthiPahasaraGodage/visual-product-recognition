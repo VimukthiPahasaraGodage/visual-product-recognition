{
 "cells": [
  {
   "cell_type": "code",
   "execution_count": 5,
   "metadata": {
    "collapsed": true,
    "ExecuteTime": {
     "end_time": "2023-08-30T06:11:14.916719800Z",
     "start_time": "2023-08-30T06:11:14.308048200Z"
    }
   },
   "outputs": [
    {
     "data": {
      "text/plain": "   Unnamed: 0         img1         img2  label\n0           0  6642981.jpg    22181.jpg      0\n1           1    33748.jpg    33780.jpg      1\n2           2  2697545.jpg    14700.jpg      0\n3           3    24988.jpg    24988.jpg      1\n4           4    14226.jpg  9180662.jpg      0",
      "text/html": "<div>\n<style scoped>\n    .dataframe tbody tr th:only-of-type {\n        vertical-align: middle;\n    }\n\n    .dataframe tbody tr th {\n        vertical-align: top;\n    }\n\n    .dataframe thead th {\n        text-align: right;\n    }\n</style>\n<table border=\"1\" class=\"dataframe\">\n  <thead>\n    <tr style=\"text-align: right;\">\n      <th></th>\n      <th>Unnamed: 0</th>\n      <th>img1</th>\n      <th>img2</th>\n      <th>label</th>\n    </tr>\n  </thead>\n  <tbody>\n    <tr>\n      <th>0</th>\n      <td>0</td>\n      <td>6642981.jpg</td>\n      <td>22181.jpg</td>\n      <td>0</td>\n    </tr>\n    <tr>\n      <th>1</th>\n      <td>1</td>\n      <td>33748.jpg</td>\n      <td>33780.jpg</td>\n      <td>1</td>\n    </tr>\n    <tr>\n      <th>2</th>\n      <td>2</td>\n      <td>2697545.jpg</td>\n      <td>14700.jpg</td>\n      <td>0</td>\n    </tr>\n    <tr>\n      <th>3</th>\n      <td>3</td>\n      <td>24988.jpg</td>\n      <td>24988.jpg</td>\n      <td>1</td>\n    </tr>\n    <tr>\n      <th>4</th>\n      <td>4</td>\n      <td>14226.jpg</td>\n      <td>9180662.jpg</td>\n      <td>0</td>\n    </tr>\n  </tbody>\n</table>\n</div>"
     },
     "metadata": {},
     "output_type": "display_data"
    },
    {
     "data": {
      "text/plain": "   Unnamed: 0                                       img    id\n0           0      ambitious-tough-teal-from-asgard.jpg  5019\n1           1         fine-shrewd-oarfish-of-genius.jpg  5008\n2           2       bold-nickel-gecko-of-reputation.jpg     9\n3           3  marvellous-uber-boobook-of-lightning.jpg  3589\n4           4     bouncy-economic-agama-of-honeydew.jpg  3656",
      "text/html": "<div>\n<style scoped>\n    .dataframe tbody tr th:only-of-type {\n        vertical-align: middle;\n    }\n\n    .dataframe tbody tr th {\n        vertical-align: top;\n    }\n\n    .dataframe thead th {\n        text-align: right;\n    }\n</style>\n<table border=\"1\" class=\"dataframe\">\n  <thead>\n    <tr style=\"text-align: right;\">\n      <th></th>\n      <th>Unnamed: 0</th>\n      <th>img</th>\n      <th>id</th>\n    </tr>\n  </thead>\n  <tbody>\n    <tr>\n      <th>0</th>\n      <td>0</td>\n      <td>ambitious-tough-teal-from-asgard.jpg</td>\n      <td>5019</td>\n    </tr>\n    <tr>\n      <th>1</th>\n      <td>1</td>\n      <td>fine-shrewd-oarfish-of-genius.jpg</td>\n      <td>5008</td>\n    </tr>\n    <tr>\n      <th>2</th>\n      <td>2</td>\n      <td>bold-nickel-gecko-of-reputation.jpg</td>\n      <td>9</td>\n    </tr>\n    <tr>\n      <th>3</th>\n      <td>3</td>\n      <td>marvellous-uber-boobook-of-lightning.jpg</td>\n      <td>3589</td>\n    </tr>\n    <tr>\n      <th>4</th>\n      <td>4</td>\n      <td>bouncy-economic-agama-of-honeydew.jpg</td>\n      <td>3656</td>\n    </tr>\n  </tbody>\n</table>\n</div>"
     },
     "metadata": {},
     "output_type": "display_data"
    }
   ],
   "source": [
    "import pandas as pd\n",
    "\n",
    "train = pd.read_csv('generated_datasets/train_dataset.csv')\n",
    "display(train.head())\n",
    "gallery = pd.read_csv('generated_datasets/test_gallery.csv')\n",
    "display(gallery.head())"
   ]
  },
  {
   "cell_type": "code",
   "execution_count": 7,
   "outputs": [
    {
     "name": "stdout",
     "output_type": "stream",
     "text": [
      "6642981.jpg 22181.jpg 0\n",
      "ambitious-tough-teal-from-asgard.jpg 5019\n"
     ]
    }
   ],
   "source": [
    "print(train.iloc[0, 1], train.iloc[0, 2], train.iloc[0, 3])\n",
    "print(gallery.iloc[0, 1], gallery.iloc[0, 2])"
   ],
   "metadata": {
    "collapsed": false,
    "ExecuteTime": {
     "end_time": "2023-08-30T06:11:55.576824100Z",
     "start_time": "2023-08-30T06:11:55.562525500Z"
    }
   }
  },
  {
   "cell_type": "code",
   "execution_count": null,
   "outputs": [],
   "source": [],
   "metadata": {
    "collapsed": false
   }
  }
 ],
 "metadata": {
  "kernelspec": {
   "display_name": "Python 3",
   "language": "python",
   "name": "python3"
  },
  "language_info": {
   "codemirror_mode": {
    "name": "ipython",
    "version": 2
   },
   "file_extension": ".py",
   "mimetype": "text/x-python",
   "name": "python",
   "nbconvert_exporter": "python",
   "pygments_lexer": "ipython2",
   "version": "2.7.6"
  }
 },
 "nbformat": 4,
 "nbformat_minor": 0
}
