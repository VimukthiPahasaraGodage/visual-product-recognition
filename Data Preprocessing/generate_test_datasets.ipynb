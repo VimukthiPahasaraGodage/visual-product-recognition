{
 "cells": [
  {
   "cell_type": "code",
   "execution_count": 24,
   "metadata": {
    "collapsed": true,
    "ExecuteTime": {
     "end_time": "2023-08-28T20:12:07.647242400Z",
     "start_time": "2023-08-28T20:12:07.615965500Z"
    }
   },
   "outputs": [
    {
     "data": {
      "text/plain": "   seller_img_id                                          img_path  product_id\n0              0      gallery/ambitious-tough-teal-from-asgard.jpg        5019\n1              1         gallery/fine-shrewd-oarfish-of-genius.jpg        5008\n2              2       gallery/bold-nickel-gecko-of-reputation.jpg           9\n3              3  gallery/marvellous-uber-boobook-of-lightning.jpg        3589\n4              4     gallery/bouncy-economic-agama-of-honeydew.jpg        3656",
      "text/html": "<div>\n<style scoped>\n    .dataframe tbody tr th:only-of-type {\n        vertical-align: middle;\n    }\n\n    .dataframe tbody tr th {\n        vertical-align: top;\n    }\n\n    .dataframe thead th {\n        text-align: right;\n    }\n</style>\n<table border=\"1\" class=\"dataframe\">\n  <thead>\n    <tr style=\"text-align: right;\">\n      <th></th>\n      <th>seller_img_id</th>\n      <th>img_path</th>\n      <th>product_id</th>\n    </tr>\n  </thead>\n  <tbody>\n    <tr>\n      <th>0</th>\n      <td>0</td>\n      <td>gallery/ambitious-tough-teal-from-asgard.jpg</td>\n      <td>5019</td>\n    </tr>\n    <tr>\n      <th>1</th>\n      <td>1</td>\n      <td>gallery/fine-shrewd-oarfish-of-genius.jpg</td>\n      <td>5008</td>\n    </tr>\n    <tr>\n      <th>2</th>\n      <td>2</td>\n      <td>gallery/bold-nickel-gecko-of-reputation.jpg</td>\n      <td>9</td>\n    </tr>\n    <tr>\n      <th>3</th>\n      <td>3</td>\n      <td>gallery/marvellous-uber-boobook-of-lightning.jpg</td>\n      <td>3589</td>\n    </tr>\n    <tr>\n      <th>4</th>\n      <td>4</td>\n      <td>gallery/bouncy-economic-agama-of-honeydew.jpg</td>\n      <td>3656</td>\n    </tr>\n  </tbody>\n</table>\n</div>"
     },
     "metadata": {},
     "output_type": "display_data"
    },
    {
     "data": {
      "text/plain": "   user_img_id                                           img_path  bbox_x  \\\n0            0    queries/magnetic-powerful-platypus-of-hail.jpeg       0   \n1            1             queries/free-keen-mole-of-cookies.jpeg       0   \n2            2  queries/hilarious-precious-parakeet-of-adverti...     240   \n3            3  queries/optimal-uptight-ringtail-of-cleaning.jpeg       0   \n4            4  queries/nonchalant-impala-of-fabulous-artistry...     350   \n\n   bbox_y  bbox_w  bbox_h  product_id  \n0     212     740     664        5013  \n1      43     714     378        3550  \n2     310     395     405          71  \n3     242     475     627        3566  \n4     125     150      81        5329  ",
      "text/html": "<div>\n<style scoped>\n    .dataframe tbody tr th:only-of-type {\n        vertical-align: middle;\n    }\n\n    .dataframe tbody tr th {\n        vertical-align: top;\n    }\n\n    .dataframe thead th {\n        text-align: right;\n    }\n</style>\n<table border=\"1\" class=\"dataframe\">\n  <thead>\n    <tr style=\"text-align: right;\">\n      <th></th>\n      <th>user_img_id</th>\n      <th>img_path</th>\n      <th>bbox_x</th>\n      <th>bbox_y</th>\n      <th>bbox_w</th>\n      <th>bbox_h</th>\n      <th>product_id</th>\n    </tr>\n  </thead>\n  <tbody>\n    <tr>\n      <th>0</th>\n      <td>0</td>\n      <td>queries/magnetic-powerful-platypus-of-hail.jpeg</td>\n      <td>0</td>\n      <td>212</td>\n      <td>740</td>\n      <td>664</td>\n      <td>5013</td>\n    </tr>\n    <tr>\n      <th>1</th>\n      <td>1</td>\n      <td>queries/free-keen-mole-of-cookies.jpeg</td>\n      <td>0</td>\n      <td>43</td>\n      <td>714</td>\n      <td>378</td>\n      <td>3550</td>\n    </tr>\n    <tr>\n      <th>2</th>\n      <td>2</td>\n      <td>queries/hilarious-precious-parakeet-of-adverti...</td>\n      <td>240</td>\n      <td>310</td>\n      <td>395</td>\n      <td>405</td>\n      <td>71</td>\n    </tr>\n    <tr>\n      <th>3</th>\n      <td>3</td>\n      <td>queries/optimal-uptight-ringtail-of-cleaning.jpeg</td>\n      <td>0</td>\n      <td>242</td>\n      <td>475</td>\n      <td>627</td>\n      <td>3566</td>\n    </tr>\n    <tr>\n      <th>4</th>\n      <td>4</td>\n      <td>queries/nonchalant-impala-of-fabulous-artistry...</td>\n      <td>350</td>\n      <td>125</td>\n      <td>150</td>\n      <td>81</td>\n      <td>5329</td>\n    </tr>\n  </tbody>\n</table>\n</div>"
     },
     "metadata": {},
     "output_type": "display_data"
    }
   ],
   "source": [
    "import pandas as pd\n",
    "\n",
    "gallery = pd.read_csv('original_datasets/gallery.csv', low_memory=False)\n",
    "queries = pd.read_csv('original_datasets/queries.csv', low_memory=False)\n",
    "\n",
    "display(gallery.head())\n",
    "display(queries.head())"
   ]
  },
  {
   "cell_type": "code",
   "execution_count": 25,
   "outputs": [
    {
     "data": {
      "text/plain": "                                           img_path  product_id\n0      gallery/ambitious-tough-teal-from-asgard.jpg        5019\n1         gallery/fine-shrewd-oarfish-of-genius.jpg        5008\n2       gallery/bold-nickel-gecko-of-reputation.jpg           9\n3  gallery/marvellous-uber-boobook-of-lightning.jpg        3589\n4     gallery/bouncy-economic-agama-of-honeydew.jpg        3656",
      "text/html": "<div>\n<style scoped>\n    .dataframe tbody tr th:only-of-type {\n        vertical-align: middle;\n    }\n\n    .dataframe tbody tr th {\n        vertical-align: top;\n    }\n\n    .dataframe thead th {\n        text-align: right;\n    }\n</style>\n<table border=\"1\" class=\"dataframe\">\n  <thead>\n    <tr style=\"text-align: right;\">\n      <th></th>\n      <th>img_path</th>\n      <th>product_id</th>\n    </tr>\n  </thead>\n  <tbody>\n    <tr>\n      <th>0</th>\n      <td>gallery/ambitious-tough-teal-from-asgard.jpg</td>\n      <td>5019</td>\n    </tr>\n    <tr>\n      <th>1</th>\n      <td>gallery/fine-shrewd-oarfish-of-genius.jpg</td>\n      <td>5008</td>\n    </tr>\n    <tr>\n      <th>2</th>\n      <td>gallery/bold-nickel-gecko-of-reputation.jpg</td>\n      <td>9</td>\n    </tr>\n    <tr>\n      <th>3</th>\n      <td>gallery/marvellous-uber-boobook-of-lightning.jpg</td>\n      <td>3589</td>\n    </tr>\n    <tr>\n      <th>4</th>\n      <td>gallery/bouncy-economic-agama-of-honeydew.jpg</td>\n      <td>3656</td>\n    </tr>\n  </tbody>\n</table>\n</div>"
     },
     "metadata": {},
     "output_type": "display_data"
    },
    {
     "data": {
      "text/plain": "                                            img_path  bbox_x  bbox_y  bbox_w  \\\n0    queries/magnetic-powerful-platypus-of-hail.jpeg       0     212     740   \n1             queries/free-keen-mole-of-cookies.jpeg       0      43     714   \n2  queries/hilarious-precious-parakeet-of-adverti...     240     310     395   \n3  queries/optimal-uptight-ringtail-of-cleaning.jpeg       0     242     475   \n4  queries/nonchalant-impala-of-fabulous-artistry...     350     125     150   \n\n   bbox_h  product_id  \n0     664        5013  \n1     378        3550  \n2     405          71  \n3     627        3566  \n4      81        5329  ",
      "text/html": "<div>\n<style scoped>\n    .dataframe tbody tr th:only-of-type {\n        vertical-align: middle;\n    }\n\n    .dataframe tbody tr th {\n        vertical-align: top;\n    }\n\n    .dataframe thead th {\n        text-align: right;\n    }\n</style>\n<table border=\"1\" class=\"dataframe\">\n  <thead>\n    <tr style=\"text-align: right;\">\n      <th></th>\n      <th>img_path</th>\n      <th>bbox_x</th>\n      <th>bbox_y</th>\n      <th>bbox_w</th>\n      <th>bbox_h</th>\n      <th>product_id</th>\n    </tr>\n  </thead>\n  <tbody>\n    <tr>\n      <th>0</th>\n      <td>queries/magnetic-powerful-platypus-of-hail.jpeg</td>\n      <td>0</td>\n      <td>212</td>\n      <td>740</td>\n      <td>664</td>\n      <td>5013</td>\n    </tr>\n    <tr>\n      <th>1</th>\n      <td>queries/free-keen-mole-of-cookies.jpeg</td>\n      <td>0</td>\n      <td>43</td>\n      <td>714</td>\n      <td>378</td>\n      <td>3550</td>\n    </tr>\n    <tr>\n      <th>2</th>\n      <td>queries/hilarious-precious-parakeet-of-adverti...</td>\n      <td>240</td>\n      <td>310</td>\n      <td>395</td>\n      <td>405</td>\n      <td>71</td>\n    </tr>\n    <tr>\n      <th>3</th>\n      <td>queries/optimal-uptight-ringtail-of-cleaning.jpeg</td>\n      <td>0</td>\n      <td>242</td>\n      <td>475</td>\n      <td>627</td>\n      <td>3566</td>\n    </tr>\n    <tr>\n      <th>4</th>\n      <td>queries/nonchalant-impala-of-fabulous-artistry...</td>\n      <td>350</td>\n      <td>125</td>\n      <td>150</td>\n      <td>81</td>\n      <td>5329</td>\n    </tr>\n  </tbody>\n</table>\n</div>"
     },
     "metadata": {},
     "output_type": "display_data"
    }
   ],
   "source": [
    "gallery.drop(['seller_img_id'], axis=1, inplace=True)\n",
    "queries.drop(['user_img_id'], axis=1, inplace=True)\n",
    "\n",
    "display(gallery.head())\n",
    "display(queries.head())"
   ],
   "metadata": {
    "collapsed": false,
    "ExecuteTime": {
     "end_time": "2023-08-28T20:12:08.430079700Z",
     "start_time": "2023-08-28T20:12:08.398854600Z"
    }
   }
  },
  {
   "cell_type": "code",
   "execution_count": 26,
   "outputs": [
    {
     "data": {
      "text/plain": "                                        img    id\n0      ambitious-tough-teal-from-asgard.jpg  5019\n1         fine-shrewd-oarfish-of-genius.jpg  5008\n2       bold-nickel-gecko-of-reputation.jpg     9\n3  marvellous-uber-boobook-of-lightning.jpg  3589\n4     bouncy-economic-agama-of-honeydew.jpg  3656",
      "text/html": "<div>\n<style scoped>\n    .dataframe tbody tr th:only-of-type {\n        vertical-align: middle;\n    }\n\n    .dataframe tbody tr th {\n        vertical-align: top;\n    }\n\n    .dataframe thead th {\n        text-align: right;\n    }\n</style>\n<table border=\"1\" class=\"dataframe\">\n  <thead>\n    <tr style=\"text-align: right;\">\n      <th></th>\n      <th>img</th>\n      <th>id</th>\n    </tr>\n  </thead>\n  <tbody>\n    <tr>\n      <th>0</th>\n      <td>ambitious-tough-teal-from-asgard.jpg</td>\n      <td>5019</td>\n    </tr>\n    <tr>\n      <th>1</th>\n      <td>fine-shrewd-oarfish-of-genius.jpg</td>\n      <td>5008</td>\n    </tr>\n    <tr>\n      <th>2</th>\n      <td>bold-nickel-gecko-of-reputation.jpg</td>\n      <td>9</td>\n    </tr>\n    <tr>\n      <th>3</th>\n      <td>marvellous-uber-boobook-of-lightning.jpg</td>\n      <td>3589</td>\n    </tr>\n    <tr>\n      <th>4</th>\n      <td>bouncy-economic-agama-of-honeydew.jpg</td>\n      <td>3656</td>\n    </tr>\n  </tbody>\n</table>\n</div>"
     },
     "metadata": {},
     "output_type": "display_data"
    },
    {
     "data": {
      "text/plain": "                                               img  bbox_x  bbox_y  bbox_w  \\\n0          magnetic-powerful-platypus-of-hail.jpeg       0     212     740   \n1                   free-keen-mole-of-cookies.jpeg       0      43     714   \n2  hilarious-precious-parakeet-of-advertising.jpeg     240     310     395   \n3        optimal-uptight-ringtail-of-cleaning.jpeg       0     242     475   \n4      nonchalant-impala-of-fabulous-artistry.jpeg     350     125     150   \n\n   bbox_h    id  \n0     664  5013  \n1     378  3550  \n2     405    71  \n3     627  3566  \n4      81  5329  ",
      "text/html": "<div>\n<style scoped>\n    .dataframe tbody tr th:only-of-type {\n        vertical-align: middle;\n    }\n\n    .dataframe tbody tr th {\n        vertical-align: top;\n    }\n\n    .dataframe thead th {\n        text-align: right;\n    }\n</style>\n<table border=\"1\" class=\"dataframe\">\n  <thead>\n    <tr style=\"text-align: right;\">\n      <th></th>\n      <th>img</th>\n      <th>bbox_x</th>\n      <th>bbox_y</th>\n      <th>bbox_w</th>\n      <th>bbox_h</th>\n      <th>id</th>\n    </tr>\n  </thead>\n  <tbody>\n    <tr>\n      <th>0</th>\n      <td>magnetic-powerful-platypus-of-hail.jpeg</td>\n      <td>0</td>\n      <td>212</td>\n      <td>740</td>\n      <td>664</td>\n      <td>5013</td>\n    </tr>\n    <tr>\n      <th>1</th>\n      <td>free-keen-mole-of-cookies.jpeg</td>\n      <td>0</td>\n      <td>43</td>\n      <td>714</td>\n      <td>378</td>\n      <td>3550</td>\n    </tr>\n    <tr>\n      <th>2</th>\n      <td>hilarious-precious-parakeet-of-advertising.jpeg</td>\n      <td>240</td>\n      <td>310</td>\n      <td>395</td>\n      <td>405</td>\n      <td>71</td>\n    </tr>\n    <tr>\n      <th>3</th>\n      <td>optimal-uptight-ringtail-of-cleaning.jpeg</td>\n      <td>0</td>\n      <td>242</td>\n      <td>475</td>\n      <td>627</td>\n      <td>3566</td>\n    </tr>\n    <tr>\n      <th>4</th>\n      <td>nonchalant-impala-of-fabulous-artistry.jpeg</td>\n      <td>350</td>\n      <td>125</td>\n      <td>150</td>\n      <td>81</td>\n      <td>5329</td>\n    </tr>\n  </tbody>\n</table>\n</div>"
     },
     "metadata": {},
     "output_type": "display_data"
    }
   ],
   "source": [
    "gallery.columns = ['img', 'id']\n",
    "queries.columns = ['img', 'bbox_x', 'bbox_y', 'bbox_w', 'bbox_h', 'id']\n",
    "\n",
    "queries['img'] = queries['img'].apply(lambda x: str(x).split('/')[1])\n",
    "gallery['img'] = gallery['img'].apply(lambda x: str(x).split('/')[1])\n",
    "\n",
    "gallery.reset_index(drop=True, inplace=True)\n",
    "queries.reset_index(drop=True, inplace=True)\n",
    "\n",
    "display(gallery.head())\n",
    "display(queries.head())"
   ],
   "metadata": {
    "collapsed": false,
    "ExecuteTime": {
     "end_time": "2023-08-28T20:12:10.035817100Z",
     "start_time": "2023-08-28T20:12:10.020188200Z"
    }
   }
  },
  {
   "cell_type": "code",
   "execution_count": 27,
   "outputs": [],
   "source": [
    "gallery.to_csv('generated_datasets/test_gallery.csv')\n",
    "queries.to_csv('generated_datasets/test_queries.csv')"
   ],
   "metadata": {
    "collapsed": false,
    "ExecuteTime": {
     "end_time": "2023-08-28T20:12:19.601610Z",
     "start_time": "2023-08-28T20:12:19.570356800Z"
    }
   }
  }
 ],
 "metadata": {
  "kernelspec": {
   "display_name": "Python 3",
   "language": "python",
   "name": "python3"
  },
  "language_info": {
   "codemirror_mode": {
    "name": "ipython",
    "version": 2
   },
   "file_extension": ".py",
   "mimetype": "text/x-python",
   "name": "python",
   "nbconvert_exporter": "python",
   "pygments_lexer": "ipython2",
   "version": "2.7.6"
  }
 },
 "nbformat": 4,
 "nbformat_minor": 0
}
