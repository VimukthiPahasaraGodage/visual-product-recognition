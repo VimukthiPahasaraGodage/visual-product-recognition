{
 "cells": [
  {
   "cell_type": "code",
   "execution_count": 36,
   "metadata": {
    "collapsed": true,
    "ExecuteTime": {
     "end_time": "2023-08-30T17:29:06.797701Z",
     "start_time": "2023-08-30T17:29:06.782048400Z"
    }
   },
   "outputs": [],
   "source": [
    "import pandas as pd\n",
    "import random"
   ]
  },
  {
   "cell_type": "code",
   "execution_count": 37,
   "outputs": [],
   "source": [
    "training_dataset_train = pd.read_csv('original_datasets/train.csv', low_memory=False)\n",
    "training_dataset_train.drop(['group'], axis=1, inplace=True)\n",
    "training_dataset_test = pd.read_csv('original_datasets/test.csv', low_memory=False)"
   ],
   "metadata": {
    "collapsed": false,
    "ExecuteTime": {
     "end_time": "2023-08-30T17:29:09.557850100Z",
     "start_time": "2023-08-30T17:29:09.420641100Z"
    }
   }
  },
  {
   "cell_type": "code",
   "execution_count": 38,
   "outputs": [
    {
     "data": {
      "text/plain": "              name  class\n51244  9397815.jpg   8969",
      "text/html": "<div>\n<style scoped>\n    .dataframe tbody tr th:only-of-type {\n        vertical-align: middle;\n    }\n\n    .dataframe tbody tr th {\n        vertical-align: top;\n    }\n\n    .dataframe thead th {\n        text-align: right;\n    }\n</style>\n<table border=\"1\" class=\"dataframe\">\n  <thead>\n    <tr style=\"text-align: right;\">\n      <th></th>\n      <th>name</th>\n      <th>class</th>\n    </tr>\n  </thead>\n  <tbody>\n    <tr>\n      <th>51244</th>\n      <td>9397815.jpg</td>\n      <td>8969</td>\n    </tr>\n  </tbody>\n</table>\n</div>"
     },
     "metadata": {},
     "output_type": "display_data"
    }
   ],
   "source": [
    "remove_rows = training_dataset_test[training_dataset_test['name'] == '9397815.jpg']\n",
    "display(remove_rows)"
   ],
   "metadata": {
    "collapsed": false,
    "ExecuteTime": {
     "end_time": "2023-08-30T17:29:11.859705Z",
     "start_time": "2023-08-30T17:29:11.843965400Z"
    }
   }
  },
  {
   "cell_type": "code",
   "execution_count": 39,
   "outputs": [],
   "source": [
    "training_dataset_test = training_dataset_test[training_dataset_test['name'] != '9397815.jpg']"
   ],
   "metadata": {
    "collapsed": false,
    "ExecuteTime": {
     "end_time": "2023-08-30T17:29:12.977254800Z",
     "start_time": "2023-08-30T17:29:12.961597700Z"
    }
   }
  },
  {
   "cell_type": "code",
   "execution_count": 40,
   "outputs": [
    {
     "data": {
      "text/plain": "    name  class\n0  1.jpg      0\n1  2.jpg      0\n2  3.jpg      0\n3  4.jpg      0\n4  5.jpg      0",
      "text/html": "<div>\n<style scoped>\n    .dataframe tbody tr th:only-of-type {\n        vertical-align: middle;\n    }\n\n    .dataframe tbody tr th {\n        vertical-align: top;\n    }\n\n    .dataframe thead th {\n        text-align: right;\n    }\n</style>\n<table border=\"1\" class=\"dataframe\">\n  <thead>\n    <tr style=\"text-align: right;\">\n      <th></th>\n      <th>name</th>\n      <th>class</th>\n    </tr>\n  </thead>\n  <tbody>\n    <tr>\n      <th>0</th>\n      <td>1.jpg</td>\n      <td>0</td>\n    </tr>\n    <tr>\n      <th>1</th>\n      <td>2.jpg</td>\n      <td>0</td>\n    </tr>\n    <tr>\n      <th>2</th>\n      <td>3.jpg</td>\n      <td>0</td>\n    </tr>\n    <tr>\n      <th>3</th>\n      <td>4.jpg</td>\n      <td>0</td>\n    </tr>\n    <tr>\n      <th>4</th>\n      <td>5.jpg</td>\n      <td>0</td>\n    </tr>\n  </tbody>\n</table>\n</div>"
     },
     "metadata": {},
     "output_type": "display_data"
    },
    {
     "name": "stdout",
     "output_type": "stream",
     "text": [
      "(197306, 2)\n",
      "0\n"
     ]
    }
   ],
   "source": [
    "train_df = pd.concat([training_dataset_train, training_dataset_test])\n",
    "display(train_df.head())\n",
    "print(train_df.shape)\n",
    "print(train_df['name'].duplicated().sum())"
   ],
   "metadata": {
    "collapsed": false,
    "ExecuteTime": {
     "end_time": "2023-08-30T17:29:13.982731900Z",
     "start_time": "2023-08-30T17:29:13.919371700Z"
    }
   }
  },
  {
   "cell_type": "code",
   "execution_count": null,
   "outputs": [],
   "source": [
    "import itertools\n",
    "import math\n",
    "\n",
    "dataset_columns = ['img1', 'img2', 'label', 'class']\n",
    "dataset = pd.DataFrame(columns=dataset_columns)\n",
    "classes = train_df['class'].unique()\n",
    "number_of_images_per_class_to_use = 10\n",
    "tot_combs = math.factorial(number_of_images_per_class_to_use + 1) // (math.factorial(number_of_images_per_class_to_use - 1) * 2)\n",
    "use_over_sampling = False\n",
    "for class_ in classes:\n",
    "    images_of_class = train_df[train_df['class'] == class_]\n",
    "    sample_size = 0\n",
    "    num_images_in_class = len(images_of_class.index)\n",
    "    if num_images_in_class >= number_of_images_per_class_to_use:\n",
    "        sample_size = number_of_images_per_class_to_use\n",
    "    else:\n",
    "        sample_size = num_images_in_class\n",
    "    image_names = images_of_class['name'].tolist()\n",
    "    image_sample = random.sample(image_names, sample_size)\n",
    "    combs_with_replacement = list(itertools.combinations_with_replacement(image_sample, 2))\n",
    "    if use_over_sampling and sample_size < number_of_images_per_class_to_use:\n",
    "        num_combs = math.factorial(sample_size + 1) // (math.factorial(sample_size - 1) * 2)\n",
    "        number_of_combinations_needed = tot_combs - num_combs\n",
    "        oversample = random.choices(combs_with_replacement, k=number_of_combinations_needed)\n",
    "        combs_with_replacement += oversample\n",
    "    row_list = []\n",
    "    for comb in combs_with_replacement:\n",
    "        row = [comb[0], comb[1], 1, class_]\n",
    "        row_list.append(row)\n",
    "    temp = pd.DataFrame(row_list, columns=dataset_columns)\n",
    "    dataset = pd.concat([dataset, temp])\n",
    "print(dataset.shape)\n",
    "display(dataset.head())"
   ],
   "metadata": {
    "collapsed": false
   }
  },
  {
   "cell_type": "code",
   "execution_count": null,
   "outputs": [],
   "source": [
    "filtered_train_df = train_df.copy()\n",
    "number_of_pivot_images = 3\n",
    "number_of_non_class_images_per_pivot = 100\n",
    "_dataset = pd.DataFrame(columns=dataset_columns)\n",
    "for class_ in classes:\n",
    "    images_of_class = filtered_train_df[filtered_train_df['class'] == class_]\n",
    "    images_not_of_class = filtered_train_df[filtered_train_df['class'] != class_]\n",
    "    if len(images_of_class.index) < number_of_pivot_images:\n",
    "        number_of_pivot_images = len(images_of_class.index)\n",
    "    if len(images_not_of_class.index) < number_of_non_class_images_per_pivot:\n",
    "        number_of_non_class_images_per_pivot = len(images_not_of_class.index)\n",
    "    image_names_of_class = images_of_class['name'].tolist()\n",
    "    image_names_not_of_class = images_not_of_class['name'].tolist()\n",
    "    pivot_images = random.sample(image_names_of_class, number_of_pivot_images)\n",
    "    row_list = []\n",
    "    for pivot_image in pivot_images:\n",
    "        for non_class_image in random.sample(image_names_not_of_class, number_of_non_class_images_per_pivot):\n",
    "            row = [pivot_image, non_class_image, 0, -1]\n",
    "            row_list.append(row)\n",
    "        filtered_train_df = filtered_train_df[filtered_train_df['name'] != pivot_image]\n",
    "    temp = pd.DataFrame(row_list, columns=dataset_columns)\n",
    "    _dataset = pd.concat([_dataset, temp])\n",
    "print(_dataset.shape)\n",
    "display(_dataset.head())"
   ],
   "metadata": {
    "collapsed": false
   }
  },
  {
   "cell_type": "code",
   "execution_count": null,
   "outputs": [],
   "source": [
    "final_train_and_validation_dataset = pd.concat([dataset, _dataset])\n",
    "print(final_train_and_validation_dataset.shape)\n",
    "display(final_train_and_validation_dataset.head())"
   ],
   "metadata": {
    "collapsed": false
   }
  },
  {
   "cell_type": "code",
   "execution_count": null,
   "outputs": [],
   "source": [
    "final_train_and_validation_dataset.to_csv('generated_datasets/final_train_and_validation_dataset.csv')"
   ],
   "metadata": {
    "collapsed": false
   }
  },
  {
   "cell_type": "code",
   "execution_count": null,
   "outputs": [],
   "source": [
    "# similar_dataset = dataset.copy()\n",
    "# non_similar_dataset = _dataset.copy()"
   ],
   "metadata": {
    "collapsed": false
   }
  },
  {
   "cell_type": "code",
   "execution_count": 53,
   "outputs": [
    {
     "data": {
      "text/plain": "   Unnamed: 0    img1         img2  label  class\n0           0  14.jpg       14.jpg      1      0\n1           1  14.jpg        6.jpg      1      0\n2           2  14.jpg        9.jpg      1      0\n3           3  14.jpg  6997109.jpg      1      0\n4           4  14.jpg  9561745.jpg      1      0",
      "text/html": "<div>\n<style scoped>\n    .dataframe tbody tr th:only-of-type {\n        vertical-align: middle;\n    }\n\n    .dataframe tbody tr th {\n        vertical-align: top;\n    }\n\n    .dataframe thead th {\n        text-align: right;\n    }\n</style>\n<table border=\"1\" class=\"dataframe\">\n  <thead>\n    <tr style=\"text-align: right;\">\n      <th></th>\n      <th>Unnamed: 0</th>\n      <th>img1</th>\n      <th>img2</th>\n      <th>label</th>\n      <th>class</th>\n    </tr>\n  </thead>\n  <tbody>\n    <tr>\n      <th>0</th>\n      <td>0</td>\n      <td>14.jpg</td>\n      <td>14.jpg</td>\n      <td>1</td>\n      <td>0</td>\n    </tr>\n    <tr>\n      <th>1</th>\n      <td>1</td>\n      <td>14.jpg</td>\n      <td>6.jpg</td>\n      <td>1</td>\n      <td>0</td>\n    </tr>\n    <tr>\n      <th>2</th>\n      <td>2</td>\n      <td>14.jpg</td>\n      <td>9.jpg</td>\n      <td>1</td>\n      <td>0</td>\n    </tr>\n    <tr>\n      <th>3</th>\n      <td>3</td>\n      <td>14.jpg</td>\n      <td>6997109.jpg</td>\n      <td>1</td>\n      <td>0</td>\n    </tr>\n    <tr>\n      <th>4</th>\n      <td>4</td>\n      <td>14.jpg</td>\n      <td>9561745.jpg</td>\n      <td>1</td>\n      <td>0</td>\n    </tr>\n  </tbody>\n</table>\n</div>"
     },
     "metadata": {},
     "output_type": "display_data"
    },
    {
     "data": {
      "text/plain": "        Unnamed: 0   img1        img2  label  class\n500954           0  9.jpg  111821.jpg      0     -1\n500955           1  9.jpg   63119.jpg      0     -1\n500956           2  9.jpg   15639.jpg      0     -1\n500957           3  9.jpg  100314.jpg      0     -1\n500958           4  9.jpg    2466.jpg      0     -1",
      "text/html": "<div>\n<style scoped>\n    .dataframe tbody tr th:only-of-type {\n        vertical-align: middle;\n    }\n\n    .dataframe tbody tr th {\n        vertical-align: top;\n    }\n\n    .dataframe thead th {\n        text-align: right;\n    }\n</style>\n<table border=\"1\" class=\"dataframe\">\n  <thead>\n    <tr style=\"text-align: right;\">\n      <th></th>\n      <th>Unnamed: 0</th>\n      <th>img1</th>\n      <th>img2</th>\n      <th>label</th>\n      <th>class</th>\n    </tr>\n  </thead>\n  <tbody>\n    <tr>\n      <th>500954</th>\n      <td>0</td>\n      <td>9.jpg</td>\n      <td>111821.jpg</td>\n      <td>0</td>\n      <td>-1</td>\n    </tr>\n    <tr>\n      <th>500955</th>\n      <td>1</td>\n      <td>9.jpg</td>\n      <td>63119.jpg</td>\n      <td>0</td>\n      <td>-1</td>\n    </tr>\n    <tr>\n      <th>500956</th>\n      <td>2</td>\n      <td>9.jpg</td>\n      <td>15639.jpg</td>\n      <td>0</td>\n      <td>-1</td>\n    </tr>\n    <tr>\n      <th>500957</th>\n      <td>3</td>\n      <td>9.jpg</td>\n      <td>100314.jpg</td>\n      <td>0</td>\n      <td>-1</td>\n    </tr>\n    <tr>\n      <th>500958</th>\n      <td>4</td>\n      <td>9.jpg</td>\n      <td>2466.jpg</td>\n      <td>0</td>\n      <td>-1</td>\n    </tr>\n  </tbody>\n</table>\n</div>"
     },
     "metadata": {},
     "output_type": "display_data"
    }
   ],
   "source": [
    "final_train_and_validation_dataset = pd.read_csv('generated_datasets/final_train_and_validation_dataset.csv', low_memory=False)\n",
    "similar_dataset = final_train_and_validation_dataset[final_train_and_validation_dataset['class'] != -1]\n",
    "non_similar_dataset =final_train_and_validation_dataset[final_train_and_validation_dataset['class'] == -1]\n",
    "display(similar_dataset.head())\n",
    "display(non_similar_dataset.head())\n",
    "\n",
    "dataset_columns = ['img1', 'img2', 'label', 'class']\n",
    "classes = train_df['class'].unique()"
   ],
   "metadata": {
    "collapsed": false,
    "ExecuteTime": {
     "end_time": "2023-08-30T18:23:58.215200300Z",
     "start_time": "2023-08-30T18:23:55.448497Z"
    }
   }
  },
  {
   "cell_type": "code",
   "execution_count": 54,
   "outputs": [
    {
     "name": "stdout",
     "output_type": "stream",
     "text": [
      "(9691, 5)\n"
     ]
    },
    {
     "data": {
      "text/plain": "     img1         img2 label class  Unnamed: 0\n1  13.jpg        5.jpg     1     0        44.0\n1  17.jpg       17.jpg     1     1        14.0\n1  20.jpg  4025423.jpg     1     2        46.0\n1  23.jpg       25.jpg     1     3         5.0\n1  32.jpg       32.jpg     1     4        49.0",
      "text/html": "<div>\n<style scoped>\n    .dataframe tbody tr th:only-of-type {\n        vertical-align: middle;\n    }\n\n    .dataframe tbody tr th {\n        vertical-align: top;\n    }\n\n    .dataframe thead th {\n        text-align: right;\n    }\n</style>\n<table border=\"1\" class=\"dataframe\">\n  <thead>\n    <tr style=\"text-align: right;\">\n      <th></th>\n      <th>img1</th>\n      <th>img2</th>\n      <th>label</th>\n      <th>class</th>\n      <th>Unnamed: 0</th>\n    </tr>\n  </thead>\n  <tbody>\n    <tr>\n      <th>1</th>\n      <td>13.jpg</td>\n      <td>5.jpg</td>\n      <td>1</td>\n      <td>0</td>\n      <td>44.0</td>\n    </tr>\n    <tr>\n      <th>1</th>\n      <td>17.jpg</td>\n      <td>17.jpg</td>\n      <td>1</td>\n      <td>1</td>\n      <td>14.0</td>\n    </tr>\n    <tr>\n      <th>1</th>\n      <td>20.jpg</td>\n      <td>4025423.jpg</td>\n      <td>1</td>\n      <td>2</td>\n      <td>46.0</td>\n    </tr>\n    <tr>\n      <th>1</th>\n      <td>23.jpg</td>\n      <td>25.jpg</td>\n      <td>1</td>\n      <td>3</td>\n      <td>5.0</td>\n    </tr>\n    <tr>\n      <th>1</th>\n      <td>32.jpg</td>\n      <td>32.jpg</td>\n      <td>1</td>\n      <td>4</td>\n      <td>49.0</td>\n    </tr>\n  </tbody>\n</table>\n</div>"
     },
     "metadata": {},
     "output_type": "display_data"
    },
    {
     "name": "stdout",
     "output_type": "stream",
     "text": [
      "\n",
      " (9691, 5)\n"
     ]
    },
    {
     "data": {
      "text/plain": "          img1         img2 label class  Unnamed: 0\n0        6.jpg  6997109.jpg     1     0        12.0\n0  4743831.jpg  3401546.jpg     1     1         7.0\n0  1980843.jpg  4025423.jpg     1     2        24.0\n0       24.jpg       25.jpg     1     3        35.0\n0  5704033.jpg       32.jpg     1     4         7.0",
      "text/html": "<div>\n<style scoped>\n    .dataframe tbody tr th:only-of-type {\n        vertical-align: middle;\n    }\n\n    .dataframe tbody tr th {\n        vertical-align: top;\n    }\n\n    .dataframe thead th {\n        text-align: right;\n    }\n</style>\n<table border=\"1\" class=\"dataframe\">\n  <thead>\n    <tr style=\"text-align: right;\">\n      <th></th>\n      <th>img1</th>\n      <th>img2</th>\n      <th>label</th>\n      <th>class</th>\n      <th>Unnamed: 0</th>\n    </tr>\n  </thead>\n  <tbody>\n    <tr>\n      <th>0</th>\n      <td>6.jpg</td>\n      <td>6997109.jpg</td>\n      <td>1</td>\n      <td>0</td>\n      <td>12.0</td>\n    </tr>\n    <tr>\n      <th>0</th>\n      <td>4743831.jpg</td>\n      <td>3401546.jpg</td>\n      <td>1</td>\n      <td>1</td>\n      <td>7.0</td>\n    </tr>\n    <tr>\n      <th>0</th>\n      <td>1980843.jpg</td>\n      <td>4025423.jpg</td>\n      <td>1</td>\n      <td>2</td>\n      <td>24.0</td>\n    </tr>\n    <tr>\n      <th>0</th>\n      <td>24.jpg</td>\n      <td>25.jpg</td>\n      <td>1</td>\n      <td>3</td>\n      <td>35.0</td>\n    </tr>\n    <tr>\n      <th>0</th>\n      <td>5704033.jpg</td>\n      <td>32.jpg</td>\n      <td>1</td>\n      <td>4</td>\n      <td>7.0</td>\n    </tr>\n  </tbody>\n</table>\n</div>"
     },
     "metadata": {},
     "output_type": "display_data"
    }
   ],
   "source": [
    "num_rows_from_class_for_validation = 1\n",
    "num_rows_from_class_for_train = 1\n",
    "train_dataset = pd.DataFrame(columns=dataset_columns)\n",
    "validation_dataset = pd.DataFrame(columns=dataset_columns)\n",
    "for class_ in classes:\n",
    "    images_of_class = similar_dataset[similar_dataset['class'] == class_]\n",
    "    images_of_class = images_of_class.sample(frac=1).reset_index(drop=True)\n",
    "    val_temp = images_of_class.iloc[:num_rows_from_class_for_validation]\n",
    "    if len(images_of_class.index) - num_rows_from_class_for_validation < num_rows_from_class_for_train:\n",
    "        train_temp = images_of_class.iloc[num_rows_from_class_for_validation:]\n",
    "    else:\n",
    "        train_temp = images_of_class.iloc[num_rows_from_class_for_validation:(num_rows_from_class_for_train + num_rows_from_class_for_validation)]\n",
    "    train_dataset = pd.concat([train_dataset, train_temp])\n",
    "    validation_dataset = pd.concat([validation_dataset, val_temp])\n",
    "print(train_dataset.shape)\n",
    "display(train_dataset.head())\n",
    "print('\\n', validation_dataset.shape)\n",
    "display(validation_dataset.head())"
   ],
   "metadata": {
    "collapsed": false,
    "ExecuteTime": {
     "end_time": "2023-08-30T18:24:23.737110Z",
     "start_time": "2023-08-30T18:23:58.215200300Z"
    }
   }
  },
  {
   "cell_type": "code",
   "execution_count": 55,
   "outputs": [
    {
     "name": "stdout",
     "output_type": "stream",
     "text": [
      "(19382, 5)\n"
     ]
    },
    {
     "data": {
      "text/plain": "     img1         img2 label class  Unnamed: 0\n1  13.jpg        5.jpg     1     0        44.0\n1  17.jpg       17.jpg     1     1        14.0\n1  20.jpg  4025423.jpg     1     2        46.0\n1  23.jpg       25.jpg     1     3         5.0\n1  32.jpg       32.jpg     1     4        49.0",
      "text/html": "<div>\n<style scoped>\n    .dataframe tbody tr th:only-of-type {\n        vertical-align: middle;\n    }\n\n    .dataframe tbody tr th {\n        vertical-align: top;\n    }\n\n    .dataframe thead th {\n        text-align: right;\n    }\n</style>\n<table border=\"1\" class=\"dataframe\">\n  <thead>\n    <tr style=\"text-align: right;\">\n      <th></th>\n      <th>img1</th>\n      <th>img2</th>\n      <th>label</th>\n      <th>class</th>\n      <th>Unnamed: 0</th>\n    </tr>\n  </thead>\n  <tbody>\n    <tr>\n      <th>1</th>\n      <td>13.jpg</td>\n      <td>5.jpg</td>\n      <td>1</td>\n      <td>0</td>\n      <td>44.0</td>\n    </tr>\n    <tr>\n      <th>1</th>\n      <td>17.jpg</td>\n      <td>17.jpg</td>\n      <td>1</td>\n      <td>1</td>\n      <td>14.0</td>\n    </tr>\n    <tr>\n      <th>1</th>\n      <td>20.jpg</td>\n      <td>4025423.jpg</td>\n      <td>1</td>\n      <td>2</td>\n      <td>46.0</td>\n    </tr>\n    <tr>\n      <th>1</th>\n      <td>23.jpg</td>\n      <td>25.jpg</td>\n      <td>1</td>\n      <td>3</td>\n      <td>5.0</td>\n    </tr>\n    <tr>\n      <th>1</th>\n      <td>32.jpg</td>\n      <td>32.jpg</td>\n      <td>1</td>\n      <td>4</td>\n      <td>49.0</td>\n    </tr>\n  </tbody>\n</table>\n</div>"
     },
     "metadata": {},
     "output_type": "display_data"
    },
    {
     "name": "stdout",
     "output_type": "stream",
     "text": [
      "\n",
      " (19382, 5)\n"
     ]
    },
    {
     "data": {
      "text/plain": "          img1         img2 label class  Unnamed: 0\n0        6.jpg  6997109.jpg     1     0        12.0\n0  4743831.jpg  3401546.jpg     1     1         7.0\n0  1980843.jpg  4025423.jpg     1     2        24.0\n0       24.jpg       25.jpg     1     3        35.0\n0  5704033.jpg       32.jpg     1     4         7.0",
      "text/html": "<div>\n<style scoped>\n    .dataframe tbody tr th:only-of-type {\n        vertical-align: middle;\n    }\n\n    .dataframe tbody tr th {\n        vertical-align: top;\n    }\n\n    .dataframe thead th {\n        text-align: right;\n    }\n</style>\n<table border=\"1\" class=\"dataframe\">\n  <thead>\n    <tr style=\"text-align: right;\">\n      <th></th>\n      <th>img1</th>\n      <th>img2</th>\n      <th>label</th>\n      <th>class</th>\n      <th>Unnamed: 0</th>\n    </tr>\n  </thead>\n  <tbody>\n    <tr>\n      <th>0</th>\n      <td>6.jpg</td>\n      <td>6997109.jpg</td>\n      <td>1</td>\n      <td>0</td>\n      <td>12.0</td>\n    </tr>\n    <tr>\n      <th>0</th>\n      <td>4743831.jpg</td>\n      <td>3401546.jpg</td>\n      <td>1</td>\n      <td>1</td>\n      <td>7.0</td>\n    </tr>\n    <tr>\n      <th>0</th>\n      <td>1980843.jpg</td>\n      <td>4025423.jpg</td>\n      <td>1</td>\n      <td>2</td>\n      <td>24.0</td>\n    </tr>\n    <tr>\n      <th>0</th>\n      <td>24.jpg</td>\n      <td>25.jpg</td>\n      <td>1</td>\n      <td>3</td>\n      <td>35.0</td>\n    </tr>\n    <tr>\n      <th>0</th>\n      <td>5704033.jpg</td>\n      <td>32.jpg</td>\n      <td>1</td>\n      <td>4</td>\n      <td>7.0</td>\n    </tr>\n  </tbody>\n</table>\n</div>"
     },
     "metadata": {},
     "output_type": "display_data"
    }
   ],
   "source": [
    "num_rows_for_validation = 9691\n",
    "num_rows_for_train = 9691\n",
    "non_similar_dataset = non_similar_dataset.sample(frac=1).reset_index(drop=True)\n",
    "val_temp = non_similar_dataset.iloc[:num_rows_for_validation]\n",
    "train_temp = non_similar_dataset.iloc[num_rows_for_validation:(num_rows_for_train + num_rows_for_validation)]\n",
    "validation_dataset = pd.concat([validation_dataset, val_temp])\n",
    "train_dataset = pd.concat([train_dataset, train_temp])\n",
    "print(train_dataset.shape)\n",
    "display(train_dataset.head())\n",
    "print('\\n', validation_dataset.shape)\n",
    "display(validation_dataset.head())"
   ],
   "metadata": {
    "collapsed": false,
    "ExecuteTime": {
     "end_time": "2023-08-30T18:24:24.537688700Z",
     "start_time": "2023-08-30T18:24:23.737110Z"
    }
   }
  },
  {
   "cell_type": "code",
   "execution_count": 56,
   "outputs": [],
   "source": [
    "for i in range(10):\n",
    "    train_dataset = train_dataset.sample(frac=1).reset_index(drop=True)\n",
    "    validation_dataset = validation_dataset.sample(frac=1).reset_index(drop=True)\n",
    "train_dataset.drop(['class'], axis=1, inplace=True)\n",
    "validation_dataset.drop(['class'], axis = 1, inplace=True)\n",
    "train_dataset = train_dataset.iloc[: 4010]\n",
    "validation_dataset = validation_dataset.iloc[:4010]"
   ],
   "metadata": {
    "collapsed": false,
    "ExecuteTime": {
     "end_time": "2023-08-30T18:24:24.718273300Z",
     "start_time": "2023-08-30T18:24:24.537688700Z"
    }
   }
  },
  {
   "cell_type": "code",
   "execution_count": 57,
   "outputs": [
    {
     "name": "stdout",
     "output_type": "stream",
     "text": [
      "(4010, 4)\n"
     ]
    },
    {
     "data": {
      "text/plain": "          img1         img2 label  Unnamed: 0\n0  7267414.jpg    94636.jpg     0       214.0\n1  9580890.jpg  9580890.jpg     1        19.0\n2    16974.jpg  2618934.jpg     1        37.0\n3     6112.jpg  5721613.jpg     1        22.0\n4  2245254.jpg    63032.jpg     0       110.0",
      "text/html": "<div>\n<style scoped>\n    .dataframe tbody tr th:only-of-type {\n        vertical-align: middle;\n    }\n\n    .dataframe tbody tr th {\n        vertical-align: top;\n    }\n\n    .dataframe thead th {\n        text-align: right;\n    }\n</style>\n<table border=\"1\" class=\"dataframe\">\n  <thead>\n    <tr style=\"text-align: right;\">\n      <th></th>\n      <th>img1</th>\n      <th>img2</th>\n      <th>label</th>\n      <th>Unnamed: 0</th>\n    </tr>\n  </thead>\n  <tbody>\n    <tr>\n      <th>0</th>\n      <td>7267414.jpg</td>\n      <td>94636.jpg</td>\n      <td>0</td>\n      <td>214.0</td>\n    </tr>\n    <tr>\n      <th>1</th>\n      <td>9580890.jpg</td>\n      <td>9580890.jpg</td>\n      <td>1</td>\n      <td>19.0</td>\n    </tr>\n    <tr>\n      <th>2</th>\n      <td>16974.jpg</td>\n      <td>2618934.jpg</td>\n      <td>1</td>\n      <td>37.0</td>\n    </tr>\n    <tr>\n      <th>3</th>\n      <td>6112.jpg</td>\n      <td>5721613.jpg</td>\n      <td>1</td>\n      <td>22.0</td>\n    </tr>\n    <tr>\n      <th>4</th>\n      <td>2245254.jpg</td>\n      <td>63032.jpg</td>\n      <td>0</td>\n      <td>110.0</td>\n    </tr>\n  </tbody>\n</table>\n</div>"
     },
     "metadata": {},
     "output_type": "display_data"
    },
    {
     "name": "stdout",
     "output_type": "stream",
     "text": [
      "\n",
      " (4010, 4)\n"
     ]
    },
    {
     "data": {
      "text/plain": "          img1         img2 label  Unnamed: 0\n0   131501.jpg  8827556.jpg     1        14.0\n1     8715.jpg  6948080.jpg     1        43.0\n2  6613014.jpg  6920270.jpg     0       159.0\n3  1980843.jpg     8391.jpg     0       140.0\n4  6325629.jpg    89982.jpg     0        28.0",
      "text/html": "<div>\n<style scoped>\n    .dataframe tbody tr th:only-of-type {\n        vertical-align: middle;\n    }\n\n    .dataframe tbody tr th {\n        vertical-align: top;\n    }\n\n    .dataframe thead th {\n        text-align: right;\n    }\n</style>\n<table border=\"1\" class=\"dataframe\">\n  <thead>\n    <tr style=\"text-align: right;\">\n      <th></th>\n      <th>img1</th>\n      <th>img2</th>\n      <th>label</th>\n      <th>Unnamed: 0</th>\n    </tr>\n  </thead>\n  <tbody>\n    <tr>\n      <th>0</th>\n      <td>131501.jpg</td>\n      <td>8827556.jpg</td>\n      <td>1</td>\n      <td>14.0</td>\n    </tr>\n    <tr>\n      <th>1</th>\n      <td>8715.jpg</td>\n      <td>6948080.jpg</td>\n      <td>1</td>\n      <td>43.0</td>\n    </tr>\n    <tr>\n      <th>2</th>\n      <td>6613014.jpg</td>\n      <td>6920270.jpg</td>\n      <td>0</td>\n      <td>159.0</td>\n    </tr>\n    <tr>\n      <th>3</th>\n      <td>1980843.jpg</td>\n      <td>8391.jpg</td>\n      <td>0</td>\n      <td>140.0</td>\n    </tr>\n    <tr>\n      <th>4</th>\n      <td>6325629.jpg</td>\n      <td>89982.jpg</td>\n      <td>0</td>\n      <td>28.0</td>\n    </tr>\n  </tbody>\n</table>\n</div>"
     },
     "metadata": {},
     "output_type": "display_data"
    }
   ],
   "source": [
    "print(train_dataset.shape)\n",
    "display(train_dataset.head())\n",
    "print('\\n', validation_dataset.shape)\n",
    "display(validation_dataset.head())"
   ],
   "metadata": {
    "collapsed": false,
    "ExecuteTime": {
     "end_time": "2023-08-30T18:24:24.718273300Z",
     "start_time": "2023-08-30T18:24:24.672507200Z"
    }
   }
  },
  {
   "cell_type": "code",
   "execution_count": 58,
   "outputs": [],
   "source": [
    "train_dataset.to_csv('generated_datasets/train_dataset_tiniest.csv')\n",
    "validation_dataset.to_csv('generated_datasets/validation_dataset_tiniest.csv')"
   ],
   "metadata": {
    "collapsed": false,
    "ExecuteTime": {
     "end_time": "2023-08-30T18:24:26.291743800Z",
     "start_time": "2023-08-30T18:24:26.244247800Z"
    }
   }
  },
  {
   "cell_type": "code",
   "execution_count": null,
   "outputs": [],
   "source": [],
   "metadata": {
    "collapsed": false
   }
  }
 ],
 "metadata": {
  "kernelspec": {
   "display_name": "Python 3",
   "language": "python",
   "name": "python3"
  },
  "language_info": {
   "codemirror_mode": {
    "name": "ipython",
    "version": 2
   },
   "file_extension": ".py",
   "mimetype": "text/x-python",
   "name": "python",
   "nbconvert_exporter": "python",
   "pygments_lexer": "ipython2",
   "version": "2.7.6"
  }
 },
 "nbformat": 4,
 "nbformat_minor": 0
}
