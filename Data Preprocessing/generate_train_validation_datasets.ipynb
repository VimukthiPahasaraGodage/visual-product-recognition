{
 "cells": [
  {
   "cell_type": "code",
   "execution_count": 59,
   "metadata": {
    "collapsed": true,
    "ExecuteTime": {
     "end_time": "2023-08-31T01:00:22.651104300Z",
     "start_time": "2023-08-31T01:00:22.651104300Z"
    }
   },
   "outputs": [],
   "source": [
    "import pandas as pd\n",
    "import random"
   ]
  },
  {
   "cell_type": "code",
   "execution_count": 60,
   "outputs": [],
   "source": [
    "training_dataset_train = pd.read_csv('original_datasets/train.csv', low_memory=False)\n",
    "training_dataset_train.drop(['group'], axis=1, inplace=True)\n",
    "training_dataset_test = pd.read_csv('original_datasets/test.csv', low_memory=False)"
   ],
   "metadata": {
    "collapsed": false,
    "ExecuteTime": {
     "end_time": "2023-08-31T01:00:24.363816Z",
     "start_time": "2023-08-31T01:00:24.228931300Z"
    }
   }
  },
  {
   "cell_type": "code",
   "execution_count": 61,
   "outputs": [
    {
     "data": {
      "text/plain": "              name  class\n51244  9397815.jpg   8969",
      "text/html": "<div>\n<style scoped>\n    .dataframe tbody tr th:only-of-type {\n        vertical-align: middle;\n    }\n\n    .dataframe tbody tr th {\n        vertical-align: top;\n    }\n\n    .dataframe thead th {\n        text-align: right;\n    }\n</style>\n<table border=\"1\" class=\"dataframe\">\n  <thead>\n    <tr style=\"text-align: right;\">\n      <th></th>\n      <th>name</th>\n      <th>class</th>\n    </tr>\n  </thead>\n  <tbody>\n    <tr>\n      <th>51244</th>\n      <td>9397815.jpg</td>\n      <td>8969</td>\n    </tr>\n  </tbody>\n</table>\n</div>"
     },
     "metadata": {},
     "output_type": "display_data"
    }
   ],
   "source": [
    "remove_rows = training_dataset_test[training_dataset_test['name'] == '9397815.jpg']\n",
    "display(remove_rows)"
   ],
   "metadata": {
    "collapsed": false,
    "ExecuteTime": {
     "end_time": "2023-08-31T01:00:25.232859600Z",
     "start_time": "2023-08-31T01:00:25.225839900Z"
    }
   }
  },
  {
   "cell_type": "code",
   "execution_count": 62,
   "outputs": [],
   "source": [
    "training_dataset_test = training_dataset_test[training_dataset_test['name'] != '9397815.jpg']"
   ],
   "metadata": {
    "collapsed": false,
    "ExecuteTime": {
     "end_time": "2023-08-31T01:00:25.984553600Z",
     "start_time": "2023-08-31T01:00:25.968473600Z"
    }
   }
  },
  {
   "cell_type": "code",
   "execution_count": 63,
   "outputs": [
    {
     "data": {
      "text/plain": "    name  class\n0  1.jpg      0\n1  2.jpg      0\n2  3.jpg      0\n3  4.jpg      0\n4  5.jpg      0",
      "text/html": "<div>\n<style scoped>\n    .dataframe tbody tr th:only-of-type {\n        vertical-align: middle;\n    }\n\n    .dataframe tbody tr th {\n        vertical-align: top;\n    }\n\n    .dataframe thead th {\n        text-align: right;\n    }\n</style>\n<table border=\"1\" class=\"dataframe\">\n  <thead>\n    <tr style=\"text-align: right;\">\n      <th></th>\n      <th>name</th>\n      <th>class</th>\n    </tr>\n  </thead>\n  <tbody>\n    <tr>\n      <th>0</th>\n      <td>1.jpg</td>\n      <td>0</td>\n    </tr>\n    <tr>\n      <th>1</th>\n      <td>2.jpg</td>\n      <td>0</td>\n    </tr>\n    <tr>\n      <th>2</th>\n      <td>3.jpg</td>\n      <td>0</td>\n    </tr>\n    <tr>\n      <th>3</th>\n      <td>4.jpg</td>\n      <td>0</td>\n    </tr>\n    <tr>\n      <th>4</th>\n      <td>5.jpg</td>\n      <td>0</td>\n    </tr>\n  </tbody>\n</table>\n</div>"
     },
     "metadata": {},
     "output_type": "display_data"
    },
    {
     "name": "stdout",
     "output_type": "stream",
     "text": [
      "(197306, 2)\n",
      "0\n"
     ]
    }
   ],
   "source": [
    "train_df = pd.concat([training_dataset_train, training_dataset_test])\n",
    "display(train_df.head())\n",
    "print(train_df.shape)\n",
    "print(train_df['name'].duplicated().sum())"
   ],
   "metadata": {
    "collapsed": false,
    "ExecuteTime": {
     "end_time": "2023-08-31T01:00:26.724034200Z",
     "start_time": "2023-08-31T01:00:26.660644900Z"
    }
   }
  },
  {
   "cell_type": "code",
   "execution_count": null,
   "outputs": [],
   "source": [
    "import itertools\n",
    "import math\n",
    "\n",
    "dataset_columns = ['img1', 'img2', 'label', 'class']\n",
    "dataset = pd.DataFrame(columns=dataset_columns)\n",
    "classes = train_df['class'].unique()\n",
    "number_of_images_per_class_to_use = 10\n",
    "tot_combs = math.factorial(number_of_images_per_class_to_use + 1) // (math.factorial(number_of_images_per_class_to_use - 1) * 2)\n",
    "use_over_sampling = False\n",
    "for class_ in classes:\n",
    "    images_of_class = train_df[train_df['class'] == class_]\n",
    "    sample_size = 0\n",
    "    num_images_in_class = len(images_of_class.index)\n",
    "    if num_images_in_class >= number_of_images_per_class_to_use:\n",
    "        sample_size = number_of_images_per_class_to_use\n",
    "    else:\n",
    "        sample_size = num_images_in_class\n",
    "    image_names = images_of_class['name'].tolist()\n",
    "    image_sample = random.sample(image_names, sample_size)\n",
    "    combs_with_replacement = list(itertools.combinations_with_replacement(image_sample, 2))\n",
    "    if use_over_sampling and sample_size < number_of_images_per_class_to_use:\n",
    "        num_combs = math.factorial(sample_size + 1) // (math.factorial(sample_size - 1) * 2)\n",
    "        number_of_combinations_needed = tot_combs - num_combs\n",
    "        oversample = random.choices(combs_with_replacement, k=number_of_combinations_needed)\n",
    "        combs_with_replacement += oversample\n",
    "    row_list = []\n",
    "    for comb in combs_with_replacement:\n",
    "        row = [comb[0], comb[1], 1, class_]\n",
    "        row_list.append(row)\n",
    "    temp = pd.DataFrame(row_list, columns=dataset_columns)\n",
    "    dataset = pd.concat([dataset, temp])\n",
    "print(dataset.shape)\n",
    "display(dataset.head())"
   ],
   "metadata": {
    "collapsed": false
   }
  },
  {
   "cell_type": "code",
   "execution_count": null,
   "outputs": [],
   "source": [
    "filtered_train_df = train_df.copy()\n",
    "number_of_pivot_images = 3\n",
    "number_of_non_class_images_per_pivot = 100\n",
    "_dataset = pd.DataFrame(columns=dataset_columns)\n",
    "for class_ in classes:\n",
    "    images_of_class = filtered_train_df[filtered_train_df['class'] == class_]\n",
    "    images_not_of_class = filtered_train_df[filtered_train_df['class'] != class_]\n",
    "    if len(images_of_class.index) < number_of_pivot_images:\n",
    "        number_of_pivot_images = len(images_of_class.index)\n",
    "    if len(images_not_of_class.index) < number_of_non_class_images_per_pivot:\n",
    "        number_of_non_class_images_per_pivot = len(images_not_of_class.index)\n",
    "    image_names_of_class = images_of_class['name'].tolist()\n",
    "    image_names_not_of_class = images_not_of_class['name'].tolist()\n",
    "    pivot_images = random.sample(image_names_of_class, number_of_pivot_images)\n",
    "    row_list = []\n",
    "    for pivot_image in pivot_images:\n",
    "        for non_class_image in random.sample(image_names_not_of_class, number_of_non_class_images_per_pivot):\n",
    "            row = [pivot_image, non_class_image, 0, -1]\n",
    "            row_list.append(row)\n",
    "        filtered_train_df = filtered_train_df[filtered_train_df['name'] != pivot_image]\n",
    "    temp = pd.DataFrame(row_list, columns=dataset_columns)\n",
    "    _dataset = pd.concat([_dataset, temp])\n",
    "print(_dataset.shape)\n",
    "display(_dataset.head())"
   ],
   "metadata": {
    "collapsed": false
   }
  },
  {
   "cell_type": "code",
   "execution_count": null,
   "outputs": [],
   "source": [
    "final_train_and_validation_dataset = pd.concat([dataset, _dataset])\n",
    "print(final_train_and_validation_dataset.shape)\n",
    "display(final_train_and_validation_dataset.head())"
   ],
   "metadata": {
    "collapsed": false
   }
  },
  {
   "cell_type": "code",
   "execution_count": null,
   "outputs": [],
   "source": [
    "final_train_and_validation_dataset.to_csv('generated_datasets/final_train_and_validation_dataset.csv')"
   ],
   "metadata": {
    "collapsed": false
   }
  },
  {
   "cell_type": "code",
   "execution_count": null,
   "outputs": [],
   "source": [
    "# similar_dataset = dataset.copy()\n",
    "# non_similar_dataset = _dataset.copy()"
   ],
   "metadata": {
    "collapsed": false
   }
  },
  {
   "cell_type": "code",
   "execution_count": 67,
   "outputs": [
    {
     "data": {
      "text/plain": "   Unnamed: 0    img1         img2  label  class\n0           0  14.jpg       14.jpg      1      0\n1           1  14.jpg        6.jpg      1      0\n2           2  14.jpg        9.jpg      1      0\n3           3  14.jpg  6997109.jpg      1      0\n4           4  14.jpg  9561745.jpg      1      0",
      "text/html": "<div>\n<style scoped>\n    .dataframe tbody tr th:only-of-type {\n        vertical-align: middle;\n    }\n\n    .dataframe tbody tr th {\n        vertical-align: top;\n    }\n\n    .dataframe thead th {\n        text-align: right;\n    }\n</style>\n<table border=\"1\" class=\"dataframe\">\n  <thead>\n    <tr style=\"text-align: right;\">\n      <th></th>\n      <th>Unnamed: 0</th>\n      <th>img1</th>\n      <th>img2</th>\n      <th>label</th>\n      <th>class</th>\n    </tr>\n  </thead>\n  <tbody>\n    <tr>\n      <th>0</th>\n      <td>0</td>\n      <td>14.jpg</td>\n      <td>14.jpg</td>\n      <td>1</td>\n      <td>0</td>\n    </tr>\n    <tr>\n      <th>1</th>\n      <td>1</td>\n      <td>14.jpg</td>\n      <td>6.jpg</td>\n      <td>1</td>\n      <td>0</td>\n    </tr>\n    <tr>\n      <th>2</th>\n      <td>2</td>\n      <td>14.jpg</td>\n      <td>9.jpg</td>\n      <td>1</td>\n      <td>0</td>\n    </tr>\n    <tr>\n      <th>3</th>\n      <td>3</td>\n      <td>14.jpg</td>\n      <td>6997109.jpg</td>\n      <td>1</td>\n      <td>0</td>\n    </tr>\n    <tr>\n      <th>4</th>\n      <td>4</td>\n      <td>14.jpg</td>\n      <td>9561745.jpg</td>\n      <td>1</td>\n      <td>0</td>\n    </tr>\n  </tbody>\n</table>\n</div>"
     },
     "metadata": {},
     "output_type": "display_data"
    },
    {
     "data": {
      "text/plain": "        Unnamed: 0   img1        img2  label  class\n500954           0  9.jpg  111821.jpg      0     -1\n500955           1  9.jpg   63119.jpg      0     -1\n500956           2  9.jpg   15639.jpg      0     -1\n500957           3  9.jpg  100314.jpg      0     -1\n500958           4  9.jpg    2466.jpg      0     -1",
      "text/html": "<div>\n<style scoped>\n    .dataframe tbody tr th:only-of-type {\n        vertical-align: middle;\n    }\n\n    .dataframe tbody tr th {\n        vertical-align: top;\n    }\n\n    .dataframe thead th {\n        text-align: right;\n    }\n</style>\n<table border=\"1\" class=\"dataframe\">\n  <thead>\n    <tr style=\"text-align: right;\">\n      <th></th>\n      <th>Unnamed: 0</th>\n      <th>img1</th>\n      <th>img2</th>\n      <th>label</th>\n      <th>class</th>\n    </tr>\n  </thead>\n  <tbody>\n    <tr>\n      <th>500954</th>\n      <td>0</td>\n      <td>9.jpg</td>\n      <td>111821.jpg</td>\n      <td>0</td>\n      <td>-1</td>\n    </tr>\n    <tr>\n      <th>500955</th>\n      <td>1</td>\n      <td>9.jpg</td>\n      <td>63119.jpg</td>\n      <td>0</td>\n      <td>-1</td>\n    </tr>\n    <tr>\n      <th>500956</th>\n      <td>2</td>\n      <td>9.jpg</td>\n      <td>15639.jpg</td>\n      <td>0</td>\n      <td>-1</td>\n    </tr>\n    <tr>\n      <th>500957</th>\n      <td>3</td>\n      <td>9.jpg</td>\n      <td>100314.jpg</td>\n      <td>0</td>\n      <td>-1</td>\n    </tr>\n    <tr>\n      <th>500958</th>\n      <td>4</td>\n      <td>9.jpg</td>\n      <td>2466.jpg</td>\n      <td>0</td>\n      <td>-1</td>\n    </tr>\n  </tbody>\n</table>\n</div>"
     },
     "metadata": {},
     "output_type": "display_data"
    }
   ],
   "source": [
    "final_train_and_validation_dataset = pd.read_csv('generated_datasets/final_train_and_validation_dataset.csv', low_memory=False)\n",
    "similar_dataset = final_train_and_validation_dataset[final_train_and_validation_dataset['class'] != -1]\n",
    "non_similar_dataset =final_train_and_validation_dataset[final_train_and_validation_dataset['class'] == -1]\n",
    "display(similar_dataset.head())\n",
    "display(non_similar_dataset.head())\n",
    "\n",
    "dataset_columns = ['img1', 'img2', 'label', 'class']\n",
    "classes = train_df['class'].unique()"
   ],
   "metadata": {
    "collapsed": false,
    "ExecuteTime": {
     "end_time": "2023-08-31T01:06:31.218001700Z",
     "start_time": "2023-08-31T01:06:28.522132200Z"
    }
   }
  },
  {
   "cell_type": "code",
   "execution_count": 68,
   "outputs": [
    {
     "name": "stdout",
     "output_type": "stream",
     "text": [
      "(48455, 5)\n"
     ]
    },
    {
     "data": {
      "text/plain": "     img1         img2 label class  Unnamed: 0\n2  14.jpg       11.jpg     1     0         7.0\n3   6.jpg       13.jpg     1     0        14.0\n4   9.jpg  6997109.jpg     1     0        20.0\n5  14.jpg  1209854.jpg     1     0         8.0\n6  14.jpg  9561745.jpg     1     0         4.0",
      "text/html": "<div>\n<style scoped>\n    .dataframe tbody tr th:only-of-type {\n        vertical-align: middle;\n    }\n\n    .dataframe tbody tr th {\n        vertical-align: top;\n    }\n\n    .dataframe thead th {\n        text-align: right;\n    }\n</style>\n<table border=\"1\" class=\"dataframe\">\n  <thead>\n    <tr style=\"text-align: right;\">\n      <th></th>\n      <th>img1</th>\n      <th>img2</th>\n      <th>label</th>\n      <th>class</th>\n      <th>Unnamed: 0</th>\n    </tr>\n  </thead>\n  <tbody>\n    <tr>\n      <th>2</th>\n      <td>14.jpg</td>\n      <td>11.jpg</td>\n      <td>1</td>\n      <td>0</td>\n      <td>7.0</td>\n    </tr>\n    <tr>\n      <th>3</th>\n      <td>6.jpg</td>\n      <td>13.jpg</td>\n      <td>1</td>\n      <td>0</td>\n      <td>14.0</td>\n    </tr>\n    <tr>\n      <th>4</th>\n      <td>9.jpg</td>\n      <td>6997109.jpg</td>\n      <td>1</td>\n      <td>0</td>\n      <td>20.0</td>\n    </tr>\n    <tr>\n      <th>5</th>\n      <td>14.jpg</td>\n      <td>1209854.jpg</td>\n      <td>1</td>\n      <td>0</td>\n      <td>8.0</td>\n    </tr>\n    <tr>\n      <th>6</th>\n      <td>14.jpg</td>\n      <td>9561745.jpg</td>\n      <td>1</td>\n      <td>0</td>\n      <td>4.0</td>\n    </tr>\n  </tbody>\n</table>\n</div>"
     },
     "metadata": {},
     "output_type": "display_data"
    },
    {
     "name": "stdout",
     "output_type": "stream",
     "text": [
      "\n",
      " (19382, 5)\n"
     ]
    },
    {
     "data": {
      "text/plain": "          img1         img2 label class  Unnamed: 0\n0       14.jpg        6.jpg     1     0         1.0\n1  6997109.jpg  6997109.jpg     1     0        27.0\n0       18.jpg       17.jpg     1     1        11.0\n1  4743831.jpg       17.jpg     1     1         8.0\n0       20.jpg  2870228.jpg     1     2        48.0",
      "text/html": "<div>\n<style scoped>\n    .dataframe tbody tr th:only-of-type {\n        vertical-align: middle;\n    }\n\n    .dataframe tbody tr th {\n        vertical-align: top;\n    }\n\n    .dataframe thead th {\n        text-align: right;\n    }\n</style>\n<table border=\"1\" class=\"dataframe\">\n  <thead>\n    <tr style=\"text-align: right;\">\n      <th></th>\n      <th>img1</th>\n      <th>img2</th>\n      <th>label</th>\n      <th>class</th>\n      <th>Unnamed: 0</th>\n    </tr>\n  </thead>\n  <tbody>\n    <tr>\n      <th>0</th>\n      <td>14.jpg</td>\n      <td>6.jpg</td>\n      <td>1</td>\n      <td>0</td>\n      <td>1.0</td>\n    </tr>\n    <tr>\n      <th>1</th>\n      <td>6997109.jpg</td>\n      <td>6997109.jpg</td>\n      <td>1</td>\n      <td>0</td>\n      <td>27.0</td>\n    </tr>\n    <tr>\n      <th>0</th>\n      <td>18.jpg</td>\n      <td>17.jpg</td>\n      <td>1</td>\n      <td>1</td>\n      <td>11.0</td>\n    </tr>\n    <tr>\n      <th>1</th>\n      <td>4743831.jpg</td>\n      <td>17.jpg</td>\n      <td>1</td>\n      <td>1</td>\n      <td>8.0</td>\n    </tr>\n    <tr>\n      <th>0</th>\n      <td>20.jpg</td>\n      <td>2870228.jpg</td>\n      <td>1</td>\n      <td>2</td>\n      <td>48.0</td>\n    </tr>\n  </tbody>\n</table>\n</div>"
     },
     "metadata": {},
     "output_type": "display_data"
    }
   ],
   "source": [
    "num_rows_from_class_for_validation = 2\n",
    "num_rows_from_class_for_train = 5\n",
    "train_dataset = pd.DataFrame(columns=dataset_columns)\n",
    "validation_dataset = pd.DataFrame(columns=dataset_columns)\n",
    "for class_ in classes:\n",
    "    images_of_class = similar_dataset[similar_dataset['class'] == class_]\n",
    "    images_of_class = images_of_class.sample(frac=1).reset_index(drop=True)\n",
    "    val_temp = images_of_class.iloc[:num_rows_from_class_for_validation]\n",
    "    if len(images_of_class.index) - num_rows_from_class_for_validation < num_rows_from_class_for_train:\n",
    "        train_temp = images_of_class.iloc[num_rows_from_class_for_validation:]\n",
    "    else:\n",
    "        train_temp = images_of_class.iloc[num_rows_from_class_for_validation:(num_rows_from_class_for_train + num_rows_from_class_for_validation)]\n",
    "    train_dataset = pd.concat([train_dataset, train_temp])\n",
    "    validation_dataset = pd.concat([validation_dataset, val_temp])\n",
    "print(train_dataset.shape)\n",
    "display(train_dataset.head())\n",
    "print('\\n', validation_dataset.shape)\n",
    "display(validation_dataset.head())"
   ],
   "metadata": {
    "collapsed": false,
    "ExecuteTime": {
     "end_time": "2023-08-31T01:07:09.551726700Z",
     "start_time": "2023-08-31T01:06:31.218001700Z"
    }
   }
  },
  {
   "cell_type": "code",
   "execution_count": 69,
   "outputs": [
    {
     "name": "stdout",
     "output_type": "stream",
     "text": [
      "(121135, 5)\n"
     ]
    },
    {
     "data": {
      "text/plain": "     img1         img2 label class  Unnamed: 0\n2  14.jpg       11.jpg     1     0         7.0\n3   6.jpg       13.jpg     1     0        14.0\n4   9.jpg  6997109.jpg     1     0        20.0\n5  14.jpg  1209854.jpg     1     0         8.0\n6  14.jpg  9561745.jpg     1     0         4.0",
      "text/html": "<div>\n<style scoped>\n    .dataframe tbody tr th:only-of-type {\n        vertical-align: middle;\n    }\n\n    .dataframe tbody tr th {\n        vertical-align: top;\n    }\n\n    .dataframe thead th {\n        text-align: right;\n    }\n</style>\n<table border=\"1\" class=\"dataframe\">\n  <thead>\n    <tr style=\"text-align: right;\">\n      <th></th>\n      <th>img1</th>\n      <th>img2</th>\n      <th>label</th>\n      <th>class</th>\n      <th>Unnamed: 0</th>\n    </tr>\n  </thead>\n  <tbody>\n    <tr>\n      <th>2</th>\n      <td>14.jpg</td>\n      <td>11.jpg</td>\n      <td>1</td>\n      <td>0</td>\n      <td>7.0</td>\n    </tr>\n    <tr>\n      <th>3</th>\n      <td>6.jpg</td>\n      <td>13.jpg</td>\n      <td>1</td>\n      <td>0</td>\n      <td>14.0</td>\n    </tr>\n    <tr>\n      <th>4</th>\n      <td>9.jpg</td>\n      <td>6997109.jpg</td>\n      <td>1</td>\n      <td>0</td>\n      <td>20.0</td>\n    </tr>\n    <tr>\n      <th>5</th>\n      <td>14.jpg</td>\n      <td>1209854.jpg</td>\n      <td>1</td>\n      <td>0</td>\n      <td>8.0</td>\n    </tr>\n    <tr>\n      <th>6</th>\n      <td>14.jpg</td>\n      <td>9561745.jpg</td>\n      <td>1</td>\n      <td>0</td>\n      <td>4.0</td>\n    </tr>\n  </tbody>\n</table>\n</div>"
     },
     "metadata": {},
     "output_type": "display_data"
    },
    {
     "name": "stdout",
     "output_type": "stream",
     "text": [
      "\n",
      " (48455, 5)\n"
     ]
    },
    {
     "data": {
      "text/plain": "          img1         img2 label class  Unnamed: 0\n0       14.jpg        6.jpg     1     0         1.0\n1  6997109.jpg  6997109.jpg     1     0        27.0\n0       18.jpg       17.jpg     1     1        11.0\n1  4743831.jpg       17.jpg     1     1         8.0\n0       20.jpg  2870228.jpg     1     2        48.0",
      "text/html": "<div>\n<style scoped>\n    .dataframe tbody tr th:only-of-type {\n        vertical-align: middle;\n    }\n\n    .dataframe tbody tr th {\n        vertical-align: top;\n    }\n\n    .dataframe thead th {\n        text-align: right;\n    }\n</style>\n<table border=\"1\" class=\"dataframe\">\n  <thead>\n    <tr style=\"text-align: right;\">\n      <th></th>\n      <th>img1</th>\n      <th>img2</th>\n      <th>label</th>\n      <th>class</th>\n      <th>Unnamed: 0</th>\n    </tr>\n  </thead>\n  <tbody>\n    <tr>\n      <th>0</th>\n      <td>14.jpg</td>\n      <td>6.jpg</td>\n      <td>1</td>\n      <td>0</td>\n      <td>1.0</td>\n    </tr>\n    <tr>\n      <th>1</th>\n      <td>6997109.jpg</td>\n      <td>6997109.jpg</td>\n      <td>1</td>\n      <td>0</td>\n      <td>27.0</td>\n    </tr>\n    <tr>\n      <th>0</th>\n      <td>18.jpg</td>\n      <td>17.jpg</td>\n      <td>1</td>\n      <td>1</td>\n      <td>11.0</td>\n    </tr>\n    <tr>\n      <th>1</th>\n      <td>4743831.jpg</td>\n      <td>17.jpg</td>\n      <td>1</td>\n      <td>1</td>\n      <td>8.0</td>\n    </tr>\n    <tr>\n      <th>0</th>\n      <td>20.jpg</td>\n      <td>2870228.jpg</td>\n      <td>1</td>\n      <td>2</td>\n      <td>48.0</td>\n    </tr>\n  </tbody>\n</table>\n</div>"
     },
     "metadata": {},
     "output_type": "display_data"
    }
   ],
   "source": [
    "num_rows_for_validation = 29073\n",
    "num_rows_for_train = 72680\n",
    "non_similar_dataset = non_similar_dataset.sample(frac=1).reset_index(drop=True)\n",
    "val_temp = non_similar_dataset.iloc[:num_rows_for_validation]\n",
    "train_temp = non_similar_dataset.iloc[num_rows_for_validation:(num_rows_for_train + num_rows_for_validation)]\n",
    "validation_dataset = pd.concat([validation_dataset, val_temp])\n",
    "train_dataset = pd.concat([train_dataset, train_temp])\n",
    "print(train_dataset.shape)\n",
    "display(train_dataset.head())\n",
    "print('\\n', validation_dataset.shape)\n",
    "display(validation_dataset.head())"
   ],
   "metadata": {
    "collapsed": false,
    "ExecuteTime": {
     "end_time": "2023-08-31T01:07:10.271614400Z",
     "start_time": "2023-08-31T01:07:09.532624500Z"
    }
   }
  },
  {
   "cell_type": "code",
   "execution_count": 70,
   "outputs": [],
   "source": [
    "for i in range(10):\n",
    "    train_dataset = train_dataset.sample(frac=1).reset_index(drop=True)\n",
    "    validation_dataset = validation_dataset.sample(frac=1).reset_index(drop=True)\n",
    "train_dataset.drop(['class'], axis=1, inplace=True)\n",
    "validation_dataset.drop(['class'], axis = 1, inplace=True)"
   ],
   "metadata": {
    "collapsed": false,
    "ExecuteTime": {
     "end_time": "2023-08-31T01:07:10.727358900Z",
     "start_time": "2023-08-31T01:07:10.277618700Z"
    }
   }
  },
  {
   "cell_type": "code",
   "execution_count": 71,
   "outputs": [
    {
     "name": "stdout",
     "output_type": "stream",
     "text": [
      "(121135, 4)\n"
     ]
    },
    {
     "data": {
      "text/plain": "          img1         img2 label  Unnamed: 0\n0  1767834.jpg    23865.jpg     1        41.0\n1   136319.jpg  1397019.jpg     0       185.0\n2  5177608.jpg  5530481.jpg     0       179.0\n3  7632245.jpg    41452.jpg     0       273.0\n4    33806.jpg    33806.jpg     1        54.0",
      "text/html": "<div>\n<style scoped>\n    .dataframe tbody tr th:only-of-type {\n        vertical-align: middle;\n    }\n\n    .dataframe tbody tr th {\n        vertical-align: top;\n    }\n\n    .dataframe thead th {\n        text-align: right;\n    }\n</style>\n<table border=\"1\" class=\"dataframe\">\n  <thead>\n    <tr style=\"text-align: right;\">\n      <th></th>\n      <th>img1</th>\n      <th>img2</th>\n      <th>label</th>\n      <th>Unnamed: 0</th>\n    </tr>\n  </thead>\n  <tbody>\n    <tr>\n      <th>0</th>\n      <td>1767834.jpg</td>\n      <td>23865.jpg</td>\n      <td>1</td>\n      <td>41.0</td>\n    </tr>\n    <tr>\n      <th>1</th>\n      <td>136319.jpg</td>\n      <td>1397019.jpg</td>\n      <td>0</td>\n      <td>185.0</td>\n    </tr>\n    <tr>\n      <th>2</th>\n      <td>5177608.jpg</td>\n      <td>5530481.jpg</td>\n      <td>0</td>\n      <td>179.0</td>\n    </tr>\n    <tr>\n      <th>3</th>\n      <td>7632245.jpg</td>\n      <td>41452.jpg</td>\n      <td>0</td>\n      <td>273.0</td>\n    </tr>\n    <tr>\n      <th>4</th>\n      <td>33806.jpg</td>\n      <td>33806.jpg</td>\n      <td>1</td>\n      <td>54.0</td>\n    </tr>\n  </tbody>\n</table>\n</div>"
     },
     "metadata": {},
     "output_type": "display_data"
    },
    {
     "name": "stdout",
     "output_type": "stream",
     "text": [
      "\n",
      " (48455, 4)\n"
     ]
    },
    {
     "data": {
      "text/plain": "          img1         img2 label  Unnamed: 0\n0  4208840.jpg    95371.jpg     0       111.0\n1  5684211.jpg   108384.jpg     1         5.0\n2  7981779.jpg  7981779.jpg     1        27.0\n3    15623.jpg    49607.jpg     0       285.0\n4    33645.jpg   111743.jpg     0       258.0",
      "text/html": "<div>\n<style scoped>\n    .dataframe tbody tr th:only-of-type {\n        vertical-align: middle;\n    }\n\n    .dataframe tbody tr th {\n        vertical-align: top;\n    }\n\n    .dataframe thead th {\n        text-align: right;\n    }\n</style>\n<table border=\"1\" class=\"dataframe\">\n  <thead>\n    <tr style=\"text-align: right;\">\n      <th></th>\n      <th>img1</th>\n      <th>img2</th>\n      <th>label</th>\n      <th>Unnamed: 0</th>\n    </tr>\n  </thead>\n  <tbody>\n    <tr>\n      <th>0</th>\n      <td>4208840.jpg</td>\n      <td>95371.jpg</td>\n      <td>0</td>\n      <td>111.0</td>\n    </tr>\n    <tr>\n      <th>1</th>\n      <td>5684211.jpg</td>\n      <td>108384.jpg</td>\n      <td>1</td>\n      <td>5.0</td>\n    </tr>\n    <tr>\n      <th>2</th>\n      <td>7981779.jpg</td>\n      <td>7981779.jpg</td>\n      <td>1</td>\n      <td>27.0</td>\n    </tr>\n    <tr>\n      <th>3</th>\n      <td>15623.jpg</td>\n      <td>49607.jpg</td>\n      <td>0</td>\n      <td>285.0</td>\n    </tr>\n    <tr>\n      <th>4</th>\n      <td>33645.jpg</td>\n      <td>111743.jpg</td>\n      <td>0</td>\n      <td>258.0</td>\n    </tr>\n  </tbody>\n</table>\n</div>"
     },
     "metadata": {},
     "output_type": "display_data"
    }
   ],
   "source": [
    "print(train_dataset.shape)\n",
    "display(train_dataset.head())\n",
    "print('\\n', validation_dataset.shape)\n",
    "display(validation_dataset.head())"
   ],
   "metadata": {
    "collapsed": false,
    "ExecuteTime": {
     "end_time": "2023-08-31T01:07:10.744360800Z",
     "start_time": "2023-08-31T01:07:10.731360100Z"
    }
   }
  },
  {
   "cell_type": "code",
   "execution_count": 72,
   "outputs": [],
   "source": [
    "train_dataset.to_csv('generated_datasets/train_dataset_small.csv')\n",
    "validation_dataset.to_csv('generated_datasets/validation_dataset_small.csv')"
   ],
   "metadata": {
    "collapsed": false,
    "ExecuteTime": {
     "end_time": "2023-08-31T01:07:11.185887600Z",
     "start_time": "2023-08-31T01:07:10.744360800Z"
    }
   }
  },
  {
   "cell_type": "code",
   "execution_count": null,
   "outputs": [],
   "source": [],
   "metadata": {
    "collapsed": false
   }
  }
 ],
 "metadata": {
  "kernelspec": {
   "display_name": "Python 3",
   "language": "python",
   "name": "python3"
  },
  "language_info": {
   "codemirror_mode": {
    "name": "ipython",
    "version": 2
   },
   "file_extension": ".py",
   "mimetype": "text/x-python",
   "name": "python",
   "nbconvert_exporter": "python",
   "pygments_lexer": "ipython2",
   "version": "2.7.6"
  }
 },
 "nbformat": 4,
 "nbformat_minor": 0
}
