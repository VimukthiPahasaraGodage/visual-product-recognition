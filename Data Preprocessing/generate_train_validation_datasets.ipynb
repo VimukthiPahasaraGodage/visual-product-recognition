{
 "cells": [
  {
   "cell_type": "code",
   "execution_count": 21,
   "metadata": {
    "collapsed": true,
    "ExecuteTime": {
     "end_time": "2023-08-29T17:06:56.941450300Z",
     "start_time": "2023-08-29T17:06:56.827973500Z"
    }
   },
   "outputs": [],
   "source": [
    "import pandas as pd\n",
    "from sklearn.utils import shuffle\n",
    "import random\n",
    "\n",
    "training_dataset_train = pd.read_csv('original_datasets/train.csv', low_memory=False)\n",
    "training_dataset_train.drop(['group'], axis=1, inplace=True)\n",
    "training_dataset_test = pd.read_csv('original_datasets/test.csv', low_memory=False)"
   ]
  },
  {
   "cell_type": "code",
   "execution_count": 22,
   "outputs": [
    {
     "data": {
      "text/plain": "              name  class\n51244  9397815.jpg   8969",
      "text/html": "<div>\n<style scoped>\n    .dataframe tbody tr th:only-of-type {\n        vertical-align: middle;\n    }\n\n    .dataframe tbody tr th {\n        vertical-align: top;\n    }\n\n    .dataframe thead th {\n        text-align: right;\n    }\n</style>\n<table border=\"1\" class=\"dataframe\">\n  <thead>\n    <tr style=\"text-align: right;\">\n      <th></th>\n      <th>name</th>\n      <th>class</th>\n    </tr>\n  </thead>\n  <tbody>\n    <tr>\n      <th>51244</th>\n      <td>9397815.jpg</td>\n      <td>8969</td>\n    </tr>\n  </tbody>\n</table>\n</div>"
     },
     "metadata": {},
     "output_type": "display_data"
    }
   ],
   "source": [
    "remove_rows = training_dataset_test[training_dataset_test['name'] == '9397815.jpg']\n",
    "display(remove_rows)"
   ],
   "metadata": {
    "collapsed": false,
    "ExecuteTime": {
     "end_time": "2023-08-29T17:06:58.151279300Z",
     "start_time": "2023-08-29T17:06:58.144319300Z"
    }
   }
  },
  {
   "cell_type": "code",
   "execution_count": 23,
   "outputs": [],
   "source": [
    "training_dataset_test = training_dataset_test[training_dataset_test['name'] != '9397815.jpg']"
   ],
   "metadata": {
    "collapsed": false,
    "ExecuteTime": {
     "end_time": "2023-08-29T17:06:59.814273300Z",
     "start_time": "2023-08-29T17:06:59.786739700Z"
    }
   }
  },
  {
   "cell_type": "code",
   "execution_count": 24,
   "outputs": [
    {
     "data": {
      "text/plain": "    name  class\n0  1.jpg      0\n1  2.jpg      0\n2  3.jpg      0\n3  4.jpg      0\n4  5.jpg      0",
      "text/html": "<div>\n<style scoped>\n    .dataframe tbody tr th:only-of-type {\n        vertical-align: middle;\n    }\n\n    .dataframe tbody tr th {\n        vertical-align: top;\n    }\n\n    .dataframe thead th {\n        text-align: right;\n    }\n</style>\n<table border=\"1\" class=\"dataframe\">\n  <thead>\n    <tr style=\"text-align: right;\">\n      <th></th>\n      <th>name</th>\n      <th>class</th>\n    </tr>\n  </thead>\n  <tbody>\n    <tr>\n      <th>0</th>\n      <td>1.jpg</td>\n      <td>0</td>\n    </tr>\n    <tr>\n      <th>1</th>\n      <td>2.jpg</td>\n      <td>0</td>\n    </tr>\n    <tr>\n      <th>2</th>\n      <td>3.jpg</td>\n      <td>0</td>\n    </tr>\n    <tr>\n      <th>3</th>\n      <td>4.jpg</td>\n      <td>0</td>\n    </tr>\n    <tr>\n      <th>4</th>\n      <td>5.jpg</td>\n      <td>0</td>\n    </tr>\n  </tbody>\n</table>\n</div>"
     },
     "metadata": {},
     "output_type": "display_data"
    },
    {
     "name": "stdout",
     "output_type": "stream",
     "text": [
      "(197306, 2)\n",
      "0\n"
     ]
    }
   ],
   "source": [
    "train_df = pd.concat([training_dataset_train, training_dataset_test])\n",
    "display(train_df.head())\n",
    "print(train_df.shape)\n",
    "print(train_df['name'].duplicated().sum())"
   ],
   "metadata": {
    "collapsed": false,
    "ExecuteTime": {
     "end_time": "2023-08-29T17:07:00.884901500Z",
     "start_time": "2023-08-29T17:07:00.806860Z"
    }
   }
  },
  {
   "cell_type": "code",
   "execution_count": 25,
   "outputs": [
    {
     "name": "stdout",
     "output_type": "stream",
     "text": [
      "(500954, 4)\n"
     ]
    },
    {
     "data": {
      "text/plain": "     img1         img2 label class\n0  14.jpg       14.jpg     1     0\n1  14.jpg        6.jpg     1     0\n2  14.jpg        9.jpg     1     0\n3  14.jpg  6997109.jpg     1     0\n4  14.jpg  9561745.jpg     1     0",
      "text/html": "<div>\n<style scoped>\n    .dataframe tbody tr th:only-of-type {\n        vertical-align: middle;\n    }\n\n    .dataframe tbody tr th {\n        vertical-align: top;\n    }\n\n    .dataframe thead th {\n        text-align: right;\n    }\n</style>\n<table border=\"1\" class=\"dataframe\">\n  <thead>\n    <tr style=\"text-align: right;\">\n      <th></th>\n      <th>img1</th>\n      <th>img2</th>\n      <th>label</th>\n      <th>class</th>\n    </tr>\n  </thead>\n  <tbody>\n    <tr>\n      <th>0</th>\n      <td>14.jpg</td>\n      <td>14.jpg</td>\n      <td>1</td>\n      <td>0</td>\n    </tr>\n    <tr>\n      <th>1</th>\n      <td>14.jpg</td>\n      <td>6.jpg</td>\n      <td>1</td>\n      <td>0</td>\n    </tr>\n    <tr>\n      <th>2</th>\n      <td>14.jpg</td>\n      <td>9.jpg</td>\n      <td>1</td>\n      <td>0</td>\n    </tr>\n    <tr>\n      <th>3</th>\n      <td>14.jpg</td>\n      <td>6997109.jpg</td>\n      <td>1</td>\n      <td>0</td>\n    </tr>\n    <tr>\n      <th>4</th>\n      <td>14.jpg</td>\n      <td>9561745.jpg</td>\n      <td>1</td>\n      <td>0</td>\n    </tr>\n  </tbody>\n</table>\n</div>"
     },
     "metadata": {},
     "output_type": "display_data"
    }
   ],
   "source": [
    "import itertools\n",
    "import math\n",
    "\n",
    "dataset_columns = ['img1', 'img2', 'label', 'class']\n",
    "dataset = pd.DataFrame(columns=dataset_columns)\n",
    "classes = train_df['class'].unique()\n",
    "number_of_images_per_class_to_use = 10\n",
    "tot_combs = math.factorial(number_of_images_per_class_to_use + 1) // (math.factorial(number_of_images_per_class_to_use - 1) * 2)\n",
    "use_over_sampling = False\n",
    "for class_ in classes:\n",
    "    images_of_class = train_df[train_df['class'] == class_]\n",
    "    sample_size = 0\n",
    "    num_images_in_class = len(images_of_class.index)\n",
    "    if num_images_in_class >= number_of_images_per_class_to_use:\n",
    "        sample_size = number_of_images_per_class_to_use\n",
    "    else:\n",
    "        sample_size = num_images_in_class\n",
    "    image_names = images_of_class['name'].tolist()\n",
    "    image_sample = random.sample(image_names, sample_size)\n",
    "    combs_with_replacement = list(itertools.combinations_with_replacement(image_sample, 2))\n",
    "    if use_over_sampling and sample_size < number_of_images_per_class_to_use:\n",
    "        num_combs = math.factorial(sample_size + 1) // (math.factorial(sample_size - 1) * 2)\n",
    "        number_of_combinations_needed = tot_combs - num_combs\n",
    "        oversample = random.choices(combs_with_replacement, k=number_of_combinations_needed)\n",
    "        combs_with_replacement += oversample\n",
    "    row_list = []\n",
    "    for comb in combs_with_replacement:\n",
    "        row = [comb[0], comb[1], 1, class_]\n",
    "        row_list.append(row)\n",
    "    temp = pd.DataFrame(row_list, columns=dataset_columns)\n",
    "    dataset = pd.concat([dataset, temp])\n",
    "print(dataset.shape)\n",
    "display(dataset.head())"
   ],
   "metadata": {
    "collapsed": false,
    "ExecuteTime": {
     "end_time": "2023-08-29T17:08:35.064947500Z",
     "start_time": "2023-08-29T17:07:04.809916900Z"
    }
   }
  },
  {
   "cell_type": "code",
   "execution_count": 26,
   "outputs": [
    {
     "name": "stdout",
     "output_type": "stream",
     "text": [
      "(2907300, 4)\n"
     ]
    },
    {
     "data": {
      "text/plain": "    img1        img2 label class\n0  9.jpg  111821.jpg     0    -1\n1  9.jpg   63119.jpg     0    -1\n2  9.jpg   15639.jpg     0    -1\n3  9.jpg  100314.jpg     0    -1\n4  9.jpg    2466.jpg     0    -1",
      "text/html": "<div>\n<style scoped>\n    .dataframe tbody tr th:only-of-type {\n        vertical-align: middle;\n    }\n\n    .dataframe tbody tr th {\n        vertical-align: top;\n    }\n\n    .dataframe thead th {\n        text-align: right;\n    }\n</style>\n<table border=\"1\" class=\"dataframe\">\n  <thead>\n    <tr style=\"text-align: right;\">\n      <th></th>\n      <th>img1</th>\n      <th>img2</th>\n      <th>label</th>\n      <th>class</th>\n    </tr>\n  </thead>\n  <tbody>\n    <tr>\n      <th>0</th>\n      <td>9.jpg</td>\n      <td>111821.jpg</td>\n      <td>0</td>\n      <td>-1</td>\n    </tr>\n    <tr>\n      <th>1</th>\n      <td>9.jpg</td>\n      <td>63119.jpg</td>\n      <td>0</td>\n      <td>-1</td>\n    </tr>\n    <tr>\n      <th>2</th>\n      <td>9.jpg</td>\n      <td>15639.jpg</td>\n      <td>0</td>\n      <td>-1</td>\n    </tr>\n    <tr>\n      <th>3</th>\n      <td>9.jpg</td>\n      <td>100314.jpg</td>\n      <td>0</td>\n      <td>-1</td>\n    </tr>\n    <tr>\n      <th>4</th>\n      <td>9.jpg</td>\n      <td>2466.jpg</td>\n      <td>0</td>\n      <td>-1</td>\n    </tr>\n  </tbody>\n</table>\n</div>"
     },
     "metadata": {},
     "output_type": "display_data"
    }
   ],
   "source": [
    "filtered_train_df = train_df.copy()\n",
    "number_of_pivot_images = 3\n",
    "number_of_non_class_images_per_pivot = 100\n",
    "_dataset = pd.DataFrame(columns=dataset_columns)\n",
    "for class_ in classes:\n",
    "    images_of_class = filtered_train_df[filtered_train_df['class'] == class_]\n",
    "    images_not_of_class = filtered_train_df[filtered_train_df['class'] != class_]\n",
    "    if len(images_of_class.index) < number_of_pivot_images:\n",
    "        number_of_pivot_images = len(images_of_class.index)\n",
    "    if len(images_not_of_class.index) < number_of_non_class_images_per_pivot:\n",
    "        number_of_non_class_images_per_pivot = len(images_not_of_class.index)\n",
    "    image_names_of_class = images_of_class['name'].tolist()\n",
    "    image_names_not_of_class = images_not_of_class['name'].tolist()\n",
    "    pivot_images = random.sample(image_names_of_class, number_of_pivot_images)\n",
    "    row_list = []\n",
    "    for pivot_image in pivot_images:\n",
    "        for non_class_image in random.sample(image_names_not_of_class, number_of_non_class_images_per_pivot):\n",
    "            row = [pivot_image, non_class_image, 0, -1]\n",
    "            row_list.append(row)\n",
    "        filtered_train_df = filtered_train_df[filtered_train_df['name'] != pivot_image]\n",
    "    temp = pd.DataFrame(row_list, columns=dataset_columns)\n",
    "    _dataset = pd.concat([_dataset, temp])\n",
    "print(_dataset.shape)\n",
    "display(_dataset.head())"
   ],
   "metadata": {
    "collapsed": false,
    "ExecuteTime": {
     "end_time": "2023-08-29T17:26:06.520013600Z",
     "start_time": "2023-08-29T17:08:35.074933500Z"
    }
   }
  },
  {
   "cell_type": "code",
   "execution_count": 27,
   "outputs": [
    {
     "name": "stdout",
     "output_type": "stream",
     "text": [
      "(3408254, 4)\n"
     ]
    },
    {
     "data": {
      "text/plain": "     img1         img2 label class\n0  14.jpg       14.jpg     1     0\n1  14.jpg        6.jpg     1     0\n2  14.jpg        9.jpg     1     0\n3  14.jpg  6997109.jpg     1     0\n4  14.jpg  9561745.jpg     1     0",
      "text/html": "<div>\n<style scoped>\n    .dataframe tbody tr th:only-of-type {\n        vertical-align: middle;\n    }\n\n    .dataframe tbody tr th {\n        vertical-align: top;\n    }\n\n    .dataframe thead th {\n        text-align: right;\n    }\n</style>\n<table border=\"1\" class=\"dataframe\">\n  <thead>\n    <tr style=\"text-align: right;\">\n      <th></th>\n      <th>img1</th>\n      <th>img2</th>\n      <th>label</th>\n      <th>class</th>\n    </tr>\n  </thead>\n  <tbody>\n    <tr>\n      <th>0</th>\n      <td>14.jpg</td>\n      <td>14.jpg</td>\n      <td>1</td>\n      <td>0</td>\n    </tr>\n    <tr>\n      <th>1</th>\n      <td>14.jpg</td>\n      <td>6.jpg</td>\n      <td>1</td>\n      <td>0</td>\n    </tr>\n    <tr>\n      <th>2</th>\n      <td>14.jpg</td>\n      <td>9.jpg</td>\n      <td>1</td>\n      <td>0</td>\n    </tr>\n    <tr>\n      <th>3</th>\n      <td>14.jpg</td>\n      <td>6997109.jpg</td>\n      <td>1</td>\n      <td>0</td>\n    </tr>\n    <tr>\n      <th>4</th>\n      <td>14.jpg</td>\n      <td>9561745.jpg</td>\n      <td>1</td>\n      <td>0</td>\n    </tr>\n  </tbody>\n</table>\n</div>"
     },
     "metadata": {},
     "output_type": "display_data"
    }
   ],
   "source": [
    "final_train_and_validation_dataset = pd.concat([dataset, _dataset])\n",
    "print(final_train_and_validation_dataset.shape)\n",
    "display(final_train_and_validation_dataset.head())"
   ],
   "metadata": {
    "collapsed": false,
    "ExecuteTime": {
     "end_time": "2023-08-29T17:26:06.628530200Z",
     "start_time": "2023-08-29T17:26:06.523011200Z"
    }
   }
  },
  {
   "cell_type": "code",
   "execution_count": 28,
   "outputs": [],
   "source": [
    "final_train_and_validation_dataset.to_csv('generated_datasets/final_train_and_validation_dataset.csv')"
   ],
   "metadata": {
    "collapsed": false,
    "ExecuteTime": {
     "end_time": "2023-08-29T17:26:13.115426Z",
     "start_time": "2023-08-29T17:26:06.616530900Z"
    }
   }
  },
  {
   "cell_type": "code",
   "execution_count": 32,
   "outputs": [
    {
     "name": "stdout",
     "output_type": "stream",
     "text": [
      "(238603, 4)\n"
     ]
    },
    {
     "data": {
      "text/plain": "          img1         img2 label class\n2  6997109.jpg        5.jpg     1     0\n3        6.jpg       13.jpg     1     0\n4        9.jpg  8638678.jpg     1     0\n5  6997109.jpg       13.jpg     1     0\n6        6.jpg        5.jpg     1     0",
      "text/html": "<div>\n<style scoped>\n    .dataframe tbody tr th:only-of-type {\n        vertical-align: middle;\n    }\n\n    .dataframe tbody tr th {\n        vertical-align: top;\n    }\n\n    .dataframe thead th {\n        text-align: right;\n    }\n</style>\n<table border=\"1\" class=\"dataframe\">\n  <thead>\n    <tr style=\"text-align: right;\">\n      <th></th>\n      <th>img1</th>\n      <th>img2</th>\n      <th>label</th>\n      <th>class</th>\n    </tr>\n  </thead>\n  <tbody>\n    <tr>\n      <th>2</th>\n      <td>6997109.jpg</td>\n      <td>5.jpg</td>\n      <td>1</td>\n      <td>0</td>\n    </tr>\n    <tr>\n      <th>3</th>\n      <td>6.jpg</td>\n      <td>13.jpg</td>\n      <td>1</td>\n      <td>0</td>\n    </tr>\n    <tr>\n      <th>4</th>\n      <td>9.jpg</td>\n      <td>8638678.jpg</td>\n      <td>1</td>\n      <td>0</td>\n    </tr>\n    <tr>\n      <th>5</th>\n      <td>6997109.jpg</td>\n      <td>13.jpg</td>\n      <td>1</td>\n      <td>0</td>\n    </tr>\n    <tr>\n      <th>6</th>\n      <td>6.jpg</td>\n      <td>5.jpg</td>\n      <td>1</td>\n      <td>0</td>\n    </tr>\n  </tbody>\n</table>\n</div>"
     },
     "metadata": {},
     "output_type": "display_data"
    },
    {
     "name": "stdout",
     "output_type": "stream",
     "text": [
      "\n",
      " (19382, 4)\n"
     ]
    },
    {
     "data": {
      "text/plain": "          img1         img2 label class\n0       14.jpg  6997109.jpg     1     0\n1        6.jpg  6997109.jpg     1     0\n0  5371057.jpg       17.jpg     1     1\n1  4743831.jpg       17.jpg     1     1\n0       22.jpg  4025423.jpg     1     2",
      "text/html": "<div>\n<style scoped>\n    .dataframe tbody tr th:only-of-type {\n        vertical-align: middle;\n    }\n\n    .dataframe tbody tr th {\n        vertical-align: top;\n    }\n\n    .dataframe thead th {\n        text-align: right;\n    }\n</style>\n<table border=\"1\" class=\"dataframe\">\n  <thead>\n    <tr style=\"text-align: right;\">\n      <th></th>\n      <th>img1</th>\n      <th>img2</th>\n      <th>label</th>\n      <th>class</th>\n    </tr>\n  </thead>\n  <tbody>\n    <tr>\n      <th>0</th>\n      <td>14.jpg</td>\n      <td>6997109.jpg</td>\n      <td>1</td>\n      <td>0</td>\n    </tr>\n    <tr>\n      <th>1</th>\n      <td>6.jpg</td>\n      <td>6997109.jpg</td>\n      <td>1</td>\n      <td>0</td>\n    </tr>\n    <tr>\n      <th>0</th>\n      <td>5371057.jpg</td>\n      <td>17.jpg</td>\n      <td>1</td>\n      <td>1</td>\n    </tr>\n    <tr>\n      <th>1</th>\n      <td>4743831.jpg</td>\n      <td>17.jpg</td>\n      <td>1</td>\n      <td>1</td>\n    </tr>\n    <tr>\n      <th>0</th>\n      <td>22.jpg</td>\n      <td>4025423.jpg</td>\n      <td>1</td>\n      <td>2</td>\n    </tr>\n  </tbody>\n</table>\n</div>"
     },
     "metadata": {},
     "output_type": "display_data"
    }
   ],
   "source": [
    "similar_dataset = dataset.copy()\n",
    "# final_train_and_validation_dataset = pd.read_csv('generated_datasets/final_train_and_validation_dataset.csv', low_memory=False)\n",
    "# similar_dataset = final_train_and_validation_dataset[final_train_and_validation_dataset['class'] > -1]\n",
    "num_rows_from_class_for_validation = 2\n",
    "num_rows_from_class_for_train = 25\n",
    "train_dataset = pd.DataFrame(columns=dataset_columns)\n",
    "validation_dataset = pd.DataFrame(columns=dataset_columns)\n",
    "for class_ in classes:\n",
    "    images_of_class = similar_dataset[similar_dataset['class'] == class_]\n",
    "    images_of_class = images_of_class.sample(frac=1).reset_index(drop=True)\n",
    "    val_temp = images_of_class.iloc[:num_rows_from_class_for_validation]\n",
    "    if len(images_of_class.index) - num_rows_from_class_for_validation < num_rows_from_class_for_train:\n",
    "        train_temp = images_of_class.iloc[num_rows_from_class_for_validation:]\n",
    "    else:\n",
    "        train_temp = images_of_class.iloc[num_rows_from_class_for_validation:(num_rows_from_class_for_train + num_rows_from_class_for_validation)]\n",
    "    train_dataset = pd.concat([train_dataset, train_temp])\n",
    "    validation_dataset = pd.concat([validation_dataset, val_temp])\n",
    "print(train_dataset.shape)\n",
    "display(train_dataset.head())\n",
    "print('\\n', validation_dataset.shape)\n",
    "display(validation_dataset.head())"
   ],
   "metadata": {
    "collapsed": false,
    "ExecuteTime": {
     "end_time": "2023-08-29T18:14:04.038245300Z",
     "start_time": "2023-08-29T18:07:49.567578500Z"
    }
   }
  },
  {
   "cell_type": "code",
   "execution_count": 33,
   "outputs": [
    {
     "name": "stdout",
     "output_type": "stream",
     "text": [
      "(965428, 4)\n"
     ]
    },
    {
     "data": {
      "text/plain": "          img1         img2 label class\n2  6997109.jpg        5.jpg     1     0\n3        6.jpg       13.jpg     1     0\n4        9.jpg  8638678.jpg     1     0\n5  6997109.jpg       13.jpg     1     0\n6        6.jpg        5.jpg     1     0",
      "text/html": "<div>\n<style scoped>\n    .dataframe tbody tr th:only-of-type {\n        vertical-align: middle;\n    }\n\n    .dataframe tbody tr th {\n        vertical-align: top;\n    }\n\n    .dataframe thead th {\n        text-align: right;\n    }\n</style>\n<table border=\"1\" class=\"dataframe\">\n  <thead>\n    <tr style=\"text-align: right;\">\n      <th></th>\n      <th>img1</th>\n      <th>img2</th>\n      <th>label</th>\n      <th>class</th>\n    </tr>\n  </thead>\n  <tbody>\n    <tr>\n      <th>2</th>\n      <td>6997109.jpg</td>\n      <td>5.jpg</td>\n      <td>1</td>\n      <td>0</td>\n    </tr>\n    <tr>\n      <th>3</th>\n      <td>6.jpg</td>\n      <td>13.jpg</td>\n      <td>1</td>\n      <td>0</td>\n    </tr>\n    <tr>\n      <th>4</th>\n      <td>9.jpg</td>\n      <td>8638678.jpg</td>\n      <td>1</td>\n      <td>0</td>\n    </tr>\n    <tr>\n      <th>5</th>\n      <td>6997109.jpg</td>\n      <td>13.jpg</td>\n      <td>1</td>\n      <td>0</td>\n    </tr>\n    <tr>\n      <th>6</th>\n      <td>6.jpg</td>\n      <td>5.jpg</td>\n      <td>1</td>\n      <td>0</td>\n    </tr>\n  </tbody>\n</table>\n</div>"
     },
     "metadata": {},
     "output_type": "display_data"
    },
    {
     "name": "stdout",
     "output_type": "stream",
     "text": [
      "\n",
      " (77528, 4)\n"
     ]
    },
    {
     "data": {
      "text/plain": "          img1         img2 label class\n0       14.jpg  6997109.jpg     1     0\n1        6.jpg  6997109.jpg     1     0\n0  5371057.jpg       17.jpg     1     1\n1  4743831.jpg       17.jpg     1     1\n0       22.jpg  4025423.jpg     1     2",
      "text/html": "<div>\n<style scoped>\n    .dataframe tbody tr th:only-of-type {\n        vertical-align: middle;\n    }\n\n    .dataframe tbody tr th {\n        vertical-align: top;\n    }\n\n    .dataframe thead th {\n        text-align: right;\n    }\n</style>\n<table border=\"1\" class=\"dataframe\">\n  <thead>\n    <tr style=\"text-align: right;\">\n      <th></th>\n      <th>img1</th>\n      <th>img2</th>\n      <th>label</th>\n      <th>class</th>\n    </tr>\n  </thead>\n  <tbody>\n    <tr>\n      <th>0</th>\n      <td>14.jpg</td>\n      <td>6997109.jpg</td>\n      <td>1</td>\n      <td>0</td>\n    </tr>\n    <tr>\n      <th>1</th>\n      <td>6.jpg</td>\n      <td>6997109.jpg</td>\n      <td>1</td>\n      <td>0</td>\n    </tr>\n    <tr>\n      <th>0</th>\n      <td>5371057.jpg</td>\n      <td>17.jpg</td>\n      <td>1</td>\n      <td>1</td>\n    </tr>\n    <tr>\n      <th>1</th>\n      <td>4743831.jpg</td>\n      <td>17.jpg</td>\n      <td>1</td>\n      <td>1</td>\n    </tr>\n    <tr>\n      <th>0</th>\n      <td>22.jpg</td>\n      <td>4025423.jpg</td>\n      <td>1</td>\n      <td>2</td>\n    </tr>\n  </tbody>\n</table>\n</div>"
     },
     "metadata": {},
     "output_type": "display_data"
    }
   ],
   "source": [
    "num_rows_for_validation = 58146\n",
    "num_rows_for_train = 726825\n",
    "non_similar_dataset = _dataset.copy()\n",
    "non_similar_dataset = non_similar_dataset.sample(frac=1).reset_index(drop=True)\n",
    "val_temp = non_similar_dataset.iloc[:num_rows_for_validation]\n",
    "train_temp = non_similar_dataset.iloc[num_rows_for_validation:(num_rows_for_train + num_rows_for_validation)]\n",
    "validation_dataset = pd.concat([validation_dataset, val_temp])\n",
    "train_dataset = pd.concat([train_dataset, train_temp])\n",
    "print(train_dataset.shape)\n",
    "display(train_dataset.head())\n",
    "print('\\n', validation_dataset.shape)\n",
    "display(validation_dataset.head())"
   ],
   "metadata": {
    "collapsed": false,
    "ExecuteTime": {
     "end_time": "2023-08-29T18:14:05.194918300Z",
     "start_time": "2023-08-29T18:14:04.074898900Z"
    }
   }
  },
  {
   "cell_type": "code",
   "execution_count": 37,
   "outputs": [],
   "source": [
    "for i in range(10):\n",
    "    train_dataset = train_dataset.sample(frac=1).reset_index(drop=True)\n",
    "    validation_dataset = validation_dataset.sample(frac=1).reset_index(drop=True)\n",
    "train_dataset.drop(['class'], axis=1, inplace=True)\n",
    "validation_dataset.drop(['class'], axis = 1, inplace=True)"
   ],
   "metadata": {
    "collapsed": false,
    "ExecuteTime": {
     "end_time": "2023-08-29T18:18:50.234776700Z",
     "start_time": "2023-08-29T18:18:48.243256700Z"
    }
   }
  },
  {
   "cell_type": "code",
   "execution_count": 38,
   "outputs": [
    {
     "name": "stdout",
     "output_type": "stream",
     "text": [
      "(965428, 3)\n"
     ]
    },
    {
     "data": {
      "text/plain": "          img1         img2 label\n0  6642981.jpg    22181.jpg     0\n1    33748.jpg    33780.jpg     1\n2  2697545.jpg    14700.jpg     0\n3    24988.jpg    24988.jpg     1\n4    14226.jpg  9180662.jpg     0",
      "text/html": "<div>\n<style scoped>\n    .dataframe tbody tr th:only-of-type {\n        vertical-align: middle;\n    }\n\n    .dataframe tbody tr th {\n        vertical-align: top;\n    }\n\n    .dataframe thead th {\n        text-align: right;\n    }\n</style>\n<table border=\"1\" class=\"dataframe\">\n  <thead>\n    <tr style=\"text-align: right;\">\n      <th></th>\n      <th>img1</th>\n      <th>img2</th>\n      <th>label</th>\n    </tr>\n  </thead>\n  <tbody>\n    <tr>\n      <th>0</th>\n      <td>6642981.jpg</td>\n      <td>22181.jpg</td>\n      <td>0</td>\n    </tr>\n    <tr>\n      <th>1</th>\n      <td>33748.jpg</td>\n      <td>33780.jpg</td>\n      <td>1</td>\n    </tr>\n    <tr>\n      <th>2</th>\n      <td>2697545.jpg</td>\n      <td>14700.jpg</td>\n      <td>0</td>\n    </tr>\n    <tr>\n      <th>3</th>\n      <td>24988.jpg</td>\n      <td>24988.jpg</td>\n      <td>1</td>\n    </tr>\n    <tr>\n      <th>4</th>\n      <td>14226.jpg</td>\n      <td>9180662.jpg</td>\n      <td>0</td>\n    </tr>\n  </tbody>\n</table>\n</div>"
     },
     "metadata": {},
     "output_type": "display_data"
    },
    {
     "name": "stdout",
     "output_type": "stream",
     "text": [
      "\n",
      " (77528, 3)\n"
     ]
    },
    {
     "data": {
      "text/plain": "          img1         img2 label\n0    70597.jpg    70608.jpg     1\n1    35281.jpg  1576831.jpg     0\n2  3530589.jpg  3530589.jpg     1\n3  2196111.jpg    74852.jpg     0\n4  1569306.jpg   113431.jpg     0",
      "text/html": "<div>\n<style scoped>\n    .dataframe tbody tr th:only-of-type {\n        vertical-align: middle;\n    }\n\n    .dataframe tbody tr th {\n        vertical-align: top;\n    }\n\n    .dataframe thead th {\n        text-align: right;\n    }\n</style>\n<table border=\"1\" class=\"dataframe\">\n  <thead>\n    <tr style=\"text-align: right;\">\n      <th></th>\n      <th>img1</th>\n      <th>img2</th>\n      <th>label</th>\n    </tr>\n  </thead>\n  <tbody>\n    <tr>\n      <th>0</th>\n      <td>70597.jpg</td>\n      <td>70608.jpg</td>\n      <td>1</td>\n    </tr>\n    <tr>\n      <th>1</th>\n      <td>35281.jpg</td>\n      <td>1576831.jpg</td>\n      <td>0</td>\n    </tr>\n    <tr>\n      <th>2</th>\n      <td>3530589.jpg</td>\n      <td>3530589.jpg</td>\n      <td>1</td>\n    </tr>\n    <tr>\n      <th>3</th>\n      <td>2196111.jpg</td>\n      <td>74852.jpg</td>\n      <td>0</td>\n    </tr>\n    <tr>\n      <th>4</th>\n      <td>1569306.jpg</td>\n      <td>113431.jpg</td>\n      <td>0</td>\n    </tr>\n  </tbody>\n</table>\n</div>"
     },
     "metadata": {},
     "output_type": "display_data"
    }
   ],
   "source": [
    "print(train_dataset.shape)\n",
    "display(train_dataset.head())\n",
    "print('\\n', validation_dataset.shape)\n",
    "display(validation_dataset.head())"
   ],
   "metadata": {
    "collapsed": false,
    "ExecuteTime": {
     "end_time": "2023-08-29T18:19:03.593286700Z",
     "start_time": "2023-08-29T18:19:03.543915500Z"
    }
   }
  },
  {
   "cell_type": "code",
   "execution_count": 39,
   "outputs": [],
   "source": [
    "train_dataset.to_csv('generated_datasets/train_dataset.csv')\n",
    "validation_dataset.to_csv('generated_datasets/validation_dataset.csv')"
   ],
   "metadata": {
    "collapsed": false,
    "ExecuteTime": {
     "end_time": "2023-08-29T18:19:19.926831500Z",
     "start_time": "2023-08-29T18:19:18.473969800Z"
    }
   }
  }
 ],
 "metadata": {
  "kernelspec": {
   "display_name": "Python 3",
   "language": "python",
   "name": "python3"
  },
  "language_info": {
   "codemirror_mode": {
    "name": "ipython",
    "version": 2
   },
   "file_extension": ".py",
   "mimetype": "text/x-python",
   "name": "python",
   "nbconvert_exporter": "python",
   "pygments_lexer": "ipython2",
   "version": "2.7.6"
  }
 },
 "nbformat": 4,
 "nbformat_minor": 0
}
