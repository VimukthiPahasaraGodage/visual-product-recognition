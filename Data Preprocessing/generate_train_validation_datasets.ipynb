{
 "cells": [
  {
   "cell_type": "code",
   "execution_count": 1,
   "metadata": {
    "collapsed": true,
    "ExecuteTime": {
     "end_time": "2023-08-31T09:18:47.035622400Z",
     "start_time": "2023-08-31T09:18:46.409437200Z"
    }
   },
   "outputs": [],
   "source": [
    "import pandas as pd\n",
    "import random"
   ]
  },
  {
   "cell_type": "code",
   "execution_count": 2,
   "outputs": [],
   "source": [
    "training_dataset_train = pd.read_csv('original_datasets/train.csv', low_memory=False)\n",
    "training_dataset_train.drop(['group'], axis=1, inplace=True)\n",
    "training_dataset_test = pd.read_csv('original_datasets/test.csv', low_memory=False)"
   ],
   "metadata": {
    "collapsed": false,
    "ExecuteTime": {
     "end_time": "2023-08-31T09:18:48.048746100Z",
     "start_time": "2023-08-31T09:18:47.938712700Z"
    }
   }
  },
  {
   "cell_type": "code",
   "execution_count": 3,
   "outputs": [
    {
     "data": {
      "text/plain": "              name  class\n51244  9397815.jpg   8969",
      "text/html": "<div>\n<style scoped>\n    .dataframe tbody tr th:only-of-type {\n        vertical-align: middle;\n    }\n\n    .dataframe tbody tr th {\n        vertical-align: top;\n    }\n\n    .dataframe thead th {\n        text-align: right;\n    }\n</style>\n<table border=\"1\" class=\"dataframe\">\n  <thead>\n    <tr style=\"text-align: right;\">\n      <th></th>\n      <th>name</th>\n      <th>class</th>\n    </tr>\n  </thead>\n  <tbody>\n    <tr>\n      <th>51244</th>\n      <td>9397815.jpg</td>\n      <td>8969</td>\n    </tr>\n  </tbody>\n</table>\n</div>"
     },
     "metadata": {},
     "output_type": "display_data"
    }
   ],
   "source": [
    "remove_rows = training_dataset_test[training_dataset_test['name'] == '9397815.jpg']\n",
    "display(remove_rows)"
   ],
   "metadata": {
    "collapsed": false,
    "ExecuteTime": {
     "end_time": "2023-08-31T09:18:48.944076200Z",
     "start_time": "2023-08-31T09:18:48.912493200Z"
    }
   }
  },
  {
   "cell_type": "code",
   "execution_count": 4,
   "outputs": [],
   "source": [
    "training_dataset_test = training_dataset_test[training_dataset_test['name'] != '9397815.jpg']"
   ],
   "metadata": {
    "collapsed": false,
    "ExecuteTime": {
     "end_time": "2023-08-31T09:18:49.970116800Z",
     "start_time": "2023-08-31T09:18:49.956109900Z"
    }
   }
  },
  {
   "cell_type": "code",
   "execution_count": 5,
   "outputs": [
    {
     "data": {
      "text/plain": "    name  class\n0  1.jpg      0\n1  2.jpg      0\n2  3.jpg      0\n3  4.jpg      0\n4  5.jpg      0",
      "text/html": "<div>\n<style scoped>\n    .dataframe tbody tr th:only-of-type {\n        vertical-align: middle;\n    }\n\n    .dataframe tbody tr th {\n        vertical-align: top;\n    }\n\n    .dataframe thead th {\n        text-align: right;\n    }\n</style>\n<table border=\"1\" class=\"dataframe\">\n  <thead>\n    <tr style=\"text-align: right;\">\n      <th></th>\n      <th>name</th>\n      <th>class</th>\n    </tr>\n  </thead>\n  <tbody>\n    <tr>\n      <th>0</th>\n      <td>1.jpg</td>\n      <td>0</td>\n    </tr>\n    <tr>\n      <th>1</th>\n      <td>2.jpg</td>\n      <td>0</td>\n    </tr>\n    <tr>\n      <th>2</th>\n      <td>3.jpg</td>\n      <td>0</td>\n    </tr>\n    <tr>\n      <th>3</th>\n      <td>4.jpg</td>\n      <td>0</td>\n    </tr>\n    <tr>\n      <th>4</th>\n      <td>5.jpg</td>\n      <td>0</td>\n    </tr>\n  </tbody>\n</table>\n</div>"
     },
     "metadata": {},
     "output_type": "display_data"
    },
    {
     "name": "stdout",
     "output_type": "stream",
     "text": [
      "(197306, 2)\n",
      "0\n"
     ]
    }
   ],
   "source": [
    "train_df = pd.concat([training_dataset_train, training_dataset_test])\n",
    "display(train_df.head())\n",
    "print(train_df.shape)\n",
    "print(train_df['name'].duplicated().sum())"
   ],
   "metadata": {
    "collapsed": false,
    "ExecuteTime": {
     "end_time": "2023-08-31T09:18:50.954752300Z",
     "start_time": "2023-08-31T09:18:50.890290700Z"
    }
   }
  },
  {
   "cell_type": "code",
   "execution_count": null,
   "outputs": [],
   "source": [
    "import itertools\n",
    "import math\n",
    "\n",
    "dataset_columns = ['img1', 'img2', 'label', 'class']\n",
    "dataset = pd.DataFrame(columns=dataset_columns)\n",
    "classes = train_df['class'].unique()\n",
    "number_of_images_per_class_to_use = 10\n",
    "tot_combs = math.factorial(number_of_images_per_class_to_use + 1) // (math.factorial(number_of_images_per_class_to_use - 1) * 2)\n",
    "use_over_sampling = False\n",
    "for class_ in classes:\n",
    "    images_of_class = train_df[train_df['class'] == class_]\n",
    "    sample_size = 0\n",
    "    num_images_in_class = len(images_of_class.index)\n",
    "    if num_images_in_class >= number_of_images_per_class_to_use:\n",
    "        sample_size = number_of_images_per_class_to_use\n",
    "    else:\n",
    "        sample_size = num_images_in_class\n",
    "    image_names = images_of_class['name'].tolist()\n",
    "    image_sample = random.sample(image_names, sample_size)\n",
    "    combs_with_replacement = list(itertools.combinations_with_replacement(image_sample, 2))\n",
    "    if use_over_sampling and sample_size < number_of_images_per_class_to_use:\n",
    "        num_combs = math.factorial(sample_size + 1) // (math.factorial(sample_size - 1) * 2)\n",
    "        number_of_combinations_needed = tot_combs - num_combs\n",
    "        oversample = random.choices(combs_with_replacement, k=number_of_combinations_needed)\n",
    "        combs_with_replacement += oversample\n",
    "    row_list = []\n",
    "    for comb in combs_with_replacement:\n",
    "        row = [comb[0], comb[1], 1, class_]\n",
    "        row_list.append(row)\n",
    "    temp = pd.DataFrame(row_list, columns=dataset_columns)\n",
    "    dataset = pd.concat([dataset, temp])\n",
    "print(dataset.shape)\n",
    "display(dataset.head())"
   ],
   "metadata": {
    "collapsed": false
   }
  },
  {
   "cell_type": "code",
   "execution_count": null,
   "outputs": [],
   "source": [
    "filtered_train_df = train_df.copy()\n",
    "number_of_pivot_images = 3\n",
    "number_of_non_class_images_per_pivot = 100\n",
    "_dataset = pd.DataFrame(columns=dataset_columns)\n",
    "for class_ in classes:\n",
    "    images_of_class = filtered_train_df[filtered_train_df['class'] == class_]\n",
    "    images_not_of_class = filtered_train_df[filtered_train_df['class'] != class_]\n",
    "    if len(images_of_class.index) < number_of_pivot_images:\n",
    "        number_of_pivot_images = len(images_of_class.index)\n",
    "    if len(images_not_of_class.index) < number_of_non_class_images_per_pivot:\n",
    "        number_of_non_class_images_per_pivot = len(images_not_of_class.index)\n",
    "    image_names_of_class = images_of_class['name'].tolist()\n",
    "    image_names_not_of_class = images_not_of_class['name'].tolist()\n",
    "    pivot_images = random.sample(image_names_of_class, number_of_pivot_images)\n",
    "    row_list = []\n",
    "    for pivot_image in pivot_images:\n",
    "        for non_class_image in random.sample(image_names_not_of_class, number_of_non_class_images_per_pivot):\n",
    "            row = [pivot_image, non_class_image, 0, -1]\n",
    "            row_list.append(row)\n",
    "        filtered_train_df = filtered_train_df[filtered_train_df['name'] != pivot_image]\n",
    "    temp = pd.DataFrame(row_list, columns=dataset_columns)\n",
    "    _dataset = pd.concat([_dataset, temp])\n",
    "print(_dataset.shape)\n",
    "display(_dataset.head())"
   ],
   "metadata": {
    "collapsed": false
   }
  },
  {
   "cell_type": "code",
   "execution_count": null,
   "outputs": [],
   "source": [
    "final_train_and_validation_dataset = pd.concat([dataset, _dataset])\n",
    "print(final_train_and_validation_dataset.shape)\n",
    "display(final_train_and_validation_dataset.head())"
   ],
   "metadata": {
    "collapsed": false
   }
  },
  {
   "cell_type": "code",
   "execution_count": null,
   "outputs": [],
   "source": [
    "final_train_and_validation_dataset.to_csv('generated_datasets/final_train_and_validation_dataset.csv')"
   ],
   "metadata": {
    "collapsed": false
   }
  },
  {
   "cell_type": "code",
   "execution_count": null,
   "outputs": [],
   "source": [
    "# similar_dataset = dataset.copy()\n",
    "# non_similar_dataset = _dataset.copy()"
   ],
   "metadata": {
    "collapsed": false
   }
  },
  {
   "cell_type": "code",
   "execution_count": 8,
   "outputs": [
    {
     "data": {
      "text/plain": "     img1         img2  label  class\n0  14.jpg       14.jpg      1      0\n1  14.jpg        6.jpg      1      0\n2  14.jpg        9.jpg      1      0\n3  14.jpg  6997109.jpg      1      0\n4  14.jpg  9561745.jpg      1      0",
      "text/html": "<div>\n<style scoped>\n    .dataframe tbody tr th:only-of-type {\n        vertical-align: middle;\n    }\n\n    .dataframe tbody tr th {\n        vertical-align: top;\n    }\n\n    .dataframe thead th {\n        text-align: right;\n    }\n</style>\n<table border=\"1\" class=\"dataframe\">\n  <thead>\n    <tr style=\"text-align: right;\">\n      <th></th>\n      <th>img1</th>\n      <th>img2</th>\n      <th>label</th>\n      <th>class</th>\n    </tr>\n  </thead>\n  <tbody>\n    <tr>\n      <th>0</th>\n      <td>14.jpg</td>\n      <td>14.jpg</td>\n      <td>1</td>\n      <td>0</td>\n    </tr>\n    <tr>\n      <th>1</th>\n      <td>14.jpg</td>\n      <td>6.jpg</td>\n      <td>1</td>\n      <td>0</td>\n    </tr>\n    <tr>\n      <th>2</th>\n      <td>14.jpg</td>\n      <td>9.jpg</td>\n      <td>1</td>\n      <td>0</td>\n    </tr>\n    <tr>\n      <th>3</th>\n      <td>14.jpg</td>\n      <td>6997109.jpg</td>\n      <td>1</td>\n      <td>0</td>\n    </tr>\n    <tr>\n      <th>4</th>\n      <td>14.jpg</td>\n      <td>9561745.jpg</td>\n      <td>1</td>\n      <td>0</td>\n    </tr>\n  </tbody>\n</table>\n</div>"
     },
     "metadata": {},
     "output_type": "display_data"
    },
    {
     "data": {
      "text/plain": "         img1        img2  label  class\n500954  9.jpg  111821.jpg      0     -1\n500955  9.jpg   63119.jpg      0     -1\n500956  9.jpg   15639.jpg      0     -1\n500957  9.jpg  100314.jpg      0     -1\n500958  9.jpg    2466.jpg      0     -1",
      "text/html": "<div>\n<style scoped>\n    .dataframe tbody tr th:only-of-type {\n        vertical-align: middle;\n    }\n\n    .dataframe tbody tr th {\n        vertical-align: top;\n    }\n\n    .dataframe thead th {\n        text-align: right;\n    }\n</style>\n<table border=\"1\" class=\"dataframe\">\n  <thead>\n    <tr style=\"text-align: right;\">\n      <th></th>\n      <th>img1</th>\n      <th>img2</th>\n      <th>label</th>\n      <th>class</th>\n    </tr>\n  </thead>\n  <tbody>\n    <tr>\n      <th>500954</th>\n      <td>9.jpg</td>\n      <td>111821.jpg</td>\n      <td>0</td>\n      <td>-1</td>\n    </tr>\n    <tr>\n      <th>500955</th>\n      <td>9.jpg</td>\n      <td>63119.jpg</td>\n      <td>0</td>\n      <td>-1</td>\n    </tr>\n    <tr>\n      <th>500956</th>\n      <td>9.jpg</td>\n      <td>15639.jpg</td>\n      <td>0</td>\n      <td>-1</td>\n    </tr>\n    <tr>\n      <th>500957</th>\n      <td>9.jpg</td>\n      <td>100314.jpg</td>\n      <td>0</td>\n      <td>-1</td>\n    </tr>\n    <tr>\n      <th>500958</th>\n      <td>9.jpg</td>\n      <td>2466.jpg</td>\n      <td>0</td>\n      <td>-1</td>\n    </tr>\n  </tbody>\n</table>\n</div>"
     },
     "metadata": {},
     "output_type": "display_data"
    }
   ],
   "source": [
    "final_train_and_validation_dataset = pd.read_csv('generated_datasets/final_train_and_validation_dataset.csv', low_memory=False)\n",
    "final_train_and_validation_dataset.drop(['Unnamed: 0'], axis=1, inplace=True)\n",
    "similar_dataset = final_train_and_validation_dataset[final_train_and_validation_dataset['class'] != -1]\n",
    "non_similar_dataset =final_train_and_validation_dataset[final_train_and_validation_dataset['class'] == -1]\n",
    "display(similar_dataset.head())\n",
    "display(non_similar_dataset.head())\n",
    "\n",
    "dataset_columns = ['img1', 'img2', 'label', 'class']\n",
    "classes = train_df['class'].unique()"
   ],
   "metadata": {
    "collapsed": false,
    "ExecuteTime": {
     "end_time": "2023-08-31T09:20:00.512013400Z",
     "start_time": "2023-08-31T09:19:58.289424400Z"
    }
   }
  },
  {
   "cell_type": "code",
   "execution_count": 9,
   "outputs": [
    {
     "name": "stdout",
     "output_type": "stream",
     "text": [
      "(48455, 4)\n"
     ]
    },
    {
     "data": {
      "text/plain": "          img1         img2 label class\n2        6.jpg       11.jpg     1     0\n3  6997109.jpg  8638678.jpg     1     0\n4  6997109.jpg  6997109.jpg     1     0\n5       14.jpg       11.jpg     1     0\n6       13.jpg  8638678.jpg     1     0",
      "text/html": "<div>\n<style scoped>\n    .dataframe tbody tr th:only-of-type {\n        vertical-align: middle;\n    }\n\n    .dataframe tbody tr th {\n        vertical-align: top;\n    }\n\n    .dataframe thead th {\n        text-align: right;\n    }\n</style>\n<table border=\"1\" class=\"dataframe\">\n  <thead>\n    <tr style=\"text-align: right;\">\n      <th></th>\n      <th>img1</th>\n      <th>img2</th>\n      <th>label</th>\n      <th>class</th>\n    </tr>\n  </thead>\n  <tbody>\n    <tr>\n      <th>2</th>\n      <td>6.jpg</td>\n      <td>11.jpg</td>\n      <td>1</td>\n      <td>0</td>\n    </tr>\n    <tr>\n      <th>3</th>\n      <td>6997109.jpg</td>\n      <td>8638678.jpg</td>\n      <td>1</td>\n      <td>0</td>\n    </tr>\n    <tr>\n      <th>4</th>\n      <td>6997109.jpg</td>\n      <td>6997109.jpg</td>\n      <td>1</td>\n      <td>0</td>\n    </tr>\n    <tr>\n      <th>5</th>\n      <td>14.jpg</td>\n      <td>11.jpg</td>\n      <td>1</td>\n      <td>0</td>\n    </tr>\n    <tr>\n      <th>6</th>\n      <td>13.jpg</td>\n      <td>8638678.jpg</td>\n      <td>1</td>\n      <td>0</td>\n    </tr>\n  </tbody>\n</table>\n</div>"
     },
     "metadata": {},
     "output_type": "display_data"
    },
    {
     "name": "stdout",
     "output_type": "stream",
     "text": [
      "\n",
      " (19382, 4)\n"
     ]
    },
    {
     "data": {
      "text/plain": "          img1         img2 label class\n0       11.jpg        5.jpg     1     0\n1        9.jpg       13.jpg     1     0\n0       17.jpg       17.jpg     1     1\n1       18.jpg       18.jpg     1     1\n0  4025423.jpg  2870228.jpg     1     2",
      "text/html": "<div>\n<style scoped>\n    .dataframe tbody tr th:only-of-type {\n        vertical-align: middle;\n    }\n\n    .dataframe tbody tr th {\n        vertical-align: top;\n    }\n\n    .dataframe thead th {\n        text-align: right;\n    }\n</style>\n<table border=\"1\" class=\"dataframe\">\n  <thead>\n    <tr style=\"text-align: right;\">\n      <th></th>\n      <th>img1</th>\n      <th>img2</th>\n      <th>label</th>\n      <th>class</th>\n    </tr>\n  </thead>\n  <tbody>\n    <tr>\n      <th>0</th>\n      <td>11.jpg</td>\n      <td>5.jpg</td>\n      <td>1</td>\n      <td>0</td>\n    </tr>\n    <tr>\n      <th>1</th>\n      <td>9.jpg</td>\n      <td>13.jpg</td>\n      <td>1</td>\n      <td>0</td>\n    </tr>\n    <tr>\n      <th>0</th>\n      <td>17.jpg</td>\n      <td>17.jpg</td>\n      <td>1</td>\n      <td>1</td>\n    </tr>\n    <tr>\n      <th>1</th>\n      <td>18.jpg</td>\n      <td>18.jpg</td>\n      <td>1</td>\n      <td>1</td>\n    </tr>\n    <tr>\n      <th>0</th>\n      <td>4025423.jpg</td>\n      <td>2870228.jpg</td>\n      <td>1</td>\n      <td>2</td>\n    </tr>\n  </tbody>\n</table>\n</div>"
     },
     "metadata": {},
     "output_type": "display_data"
    }
   ],
   "source": [
    "num_rows_from_class_for_validation = 2\n",
    "num_rows_from_class_for_train = 5\n",
    "train_dataset = pd.DataFrame(columns=dataset_columns)\n",
    "validation_dataset = pd.DataFrame(columns=dataset_columns)\n",
    "for class_ in classes:\n",
    "    images_of_class = similar_dataset[similar_dataset['class'] == class_]\n",
    "    images_of_class = images_of_class.sample(frac=1).reset_index(drop=True)\n",
    "    val_temp = images_of_class.iloc[:num_rows_from_class_for_validation]\n",
    "    if len(images_of_class.index) - num_rows_from_class_for_validation < num_rows_from_class_for_train:\n",
    "        train_temp = images_of_class.iloc[num_rows_from_class_for_validation:]\n",
    "    else:\n",
    "        train_temp = images_of_class.iloc[num_rows_from_class_for_validation:(num_rows_from_class_for_train + num_rows_from_class_for_validation)]\n",
    "    train_dataset = pd.concat([train_dataset, train_temp])\n",
    "    validation_dataset = pd.concat([validation_dataset, val_temp])\n",
    "print(train_dataset.shape)\n",
    "display(train_dataset.head())\n",
    "print('\\n', validation_dataset.shape)\n",
    "display(validation_dataset.head())"
   ],
   "metadata": {
    "collapsed": false,
    "ExecuteTime": {
     "end_time": "2023-08-31T09:20:28.162419800Z",
     "start_time": "2023-08-31T09:20:01.456515800Z"
    }
   }
  },
  {
   "cell_type": "code",
   "execution_count": 10,
   "outputs": [
    {
     "name": "stdout",
     "output_type": "stream",
     "text": [
      "(121135, 4)\n"
     ]
    },
    {
     "data": {
      "text/plain": "          img1         img2 label class\n2        6.jpg       11.jpg     1     0\n3  6997109.jpg  8638678.jpg     1     0\n4  6997109.jpg  6997109.jpg     1     0\n5       14.jpg       11.jpg     1     0\n6       13.jpg  8638678.jpg     1     0",
      "text/html": "<div>\n<style scoped>\n    .dataframe tbody tr th:only-of-type {\n        vertical-align: middle;\n    }\n\n    .dataframe tbody tr th {\n        vertical-align: top;\n    }\n\n    .dataframe thead th {\n        text-align: right;\n    }\n</style>\n<table border=\"1\" class=\"dataframe\">\n  <thead>\n    <tr style=\"text-align: right;\">\n      <th></th>\n      <th>img1</th>\n      <th>img2</th>\n      <th>label</th>\n      <th>class</th>\n    </tr>\n  </thead>\n  <tbody>\n    <tr>\n      <th>2</th>\n      <td>6.jpg</td>\n      <td>11.jpg</td>\n      <td>1</td>\n      <td>0</td>\n    </tr>\n    <tr>\n      <th>3</th>\n      <td>6997109.jpg</td>\n      <td>8638678.jpg</td>\n      <td>1</td>\n      <td>0</td>\n    </tr>\n    <tr>\n      <th>4</th>\n      <td>6997109.jpg</td>\n      <td>6997109.jpg</td>\n      <td>1</td>\n      <td>0</td>\n    </tr>\n    <tr>\n      <th>5</th>\n      <td>14.jpg</td>\n      <td>11.jpg</td>\n      <td>1</td>\n      <td>0</td>\n    </tr>\n    <tr>\n      <th>6</th>\n      <td>13.jpg</td>\n      <td>8638678.jpg</td>\n      <td>1</td>\n      <td>0</td>\n    </tr>\n  </tbody>\n</table>\n</div>"
     },
     "metadata": {},
     "output_type": "display_data"
    },
    {
     "name": "stdout",
     "output_type": "stream",
     "text": [
      "\n",
      " (48455, 4)\n"
     ]
    },
    {
     "data": {
      "text/plain": "          img1         img2 label class\n0       11.jpg        5.jpg     1     0\n1        9.jpg       13.jpg     1     0\n0       17.jpg       17.jpg     1     1\n1       18.jpg       18.jpg     1     1\n0  4025423.jpg  2870228.jpg     1     2",
      "text/html": "<div>\n<style scoped>\n    .dataframe tbody tr th:only-of-type {\n        vertical-align: middle;\n    }\n\n    .dataframe tbody tr th {\n        vertical-align: top;\n    }\n\n    .dataframe thead th {\n        text-align: right;\n    }\n</style>\n<table border=\"1\" class=\"dataframe\">\n  <thead>\n    <tr style=\"text-align: right;\">\n      <th></th>\n      <th>img1</th>\n      <th>img2</th>\n      <th>label</th>\n      <th>class</th>\n    </tr>\n  </thead>\n  <tbody>\n    <tr>\n      <th>0</th>\n      <td>11.jpg</td>\n      <td>5.jpg</td>\n      <td>1</td>\n      <td>0</td>\n    </tr>\n    <tr>\n      <th>1</th>\n      <td>9.jpg</td>\n      <td>13.jpg</td>\n      <td>1</td>\n      <td>0</td>\n    </tr>\n    <tr>\n      <th>0</th>\n      <td>17.jpg</td>\n      <td>17.jpg</td>\n      <td>1</td>\n      <td>1</td>\n    </tr>\n    <tr>\n      <th>1</th>\n      <td>18.jpg</td>\n      <td>18.jpg</td>\n      <td>1</td>\n      <td>1</td>\n    </tr>\n    <tr>\n      <th>0</th>\n      <td>4025423.jpg</td>\n      <td>2870228.jpg</td>\n      <td>1</td>\n      <td>2</td>\n    </tr>\n  </tbody>\n</table>\n</div>"
     },
     "metadata": {},
     "output_type": "display_data"
    }
   ],
   "source": [
    "num_rows_for_validation = 29073\n",
    "num_rows_for_train = 72680\n",
    "non_similar_dataset = non_similar_dataset.sample(frac=1).reset_index(drop=True)\n",
    "val_temp = non_similar_dataset.iloc[:num_rows_for_validation]\n",
    "train_temp = non_similar_dataset.iloc[num_rows_for_validation:(num_rows_for_train + num_rows_for_validation)]\n",
    "validation_dataset = pd.concat([validation_dataset, val_temp])\n",
    "train_dataset = pd.concat([train_dataset, train_temp])\n",
    "print(train_dataset.shape)\n",
    "display(train_dataset.head())\n",
    "print('\\n', validation_dataset.shape)\n",
    "display(validation_dataset.head())"
   ],
   "metadata": {
    "collapsed": false,
    "ExecuteTime": {
     "end_time": "2023-08-31T09:20:28.878031900Z",
     "start_time": "2023-08-31T09:20:28.162419800Z"
    }
   }
  },
  {
   "cell_type": "code",
   "execution_count": 11,
   "outputs": [],
   "source": [
    "for i in range(10):\n",
    "    train_dataset = train_dataset.sample(frac=1).reset_index(drop=True)\n",
    "    validation_dataset = validation_dataset.sample(frac=1).reset_index(drop=True)\n",
    "train_dataset.drop(['class'], axis=1, inplace=True)\n",
    "validation_dataset.drop(['class'], axis = 1, inplace=True)"
   ],
   "metadata": {
    "collapsed": false,
    "ExecuteTime": {
     "end_time": "2023-08-31T09:20:29.339693Z",
     "start_time": "2023-08-31T09:20:28.878031900Z"
    }
   }
  },
  {
   "cell_type": "code",
   "execution_count": 12,
   "outputs": [
    {
     "name": "stdout",
     "output_type": "stream",
     "text": [
      "(121135, 3)\n"
     ]
    },
    {
     "data": {
      "text/plain": "          img1         img2 label\n0  7187374.jpg  2721754.jpg     1\n1   118823.jpg  7574439.jpg     1\n2  3287857.jpg     8880.jpg     1\n3  2683097.jpg   136507.jpg     0\n4     9273.jpg  3871724.jpg     0",
      "text/html": "<div>\n<style scoped>\n    .dataframe tbody tr th:only-of-type {\n        vertical-align: middle;\n    }\n\n    .dataframe tbody tr th {\n        vertical-align: top;\n    }\n\n    .dataframe thead th {\n        text-align: right;\n    }\n</style>\n<table border=\"1\" class=\"dataframe\">\n  <thead>\n    <tr style=\"text-align: right;\">\n      <th></th>\n      <th>img1</th>\n      <th>img2</th>\n      <th>label</th>\n    </tr>\n  </thead>\n  <tbody>\n    <tr>\n      <th>0</th>\n      <td>7187374.jpg</td>\n      <td>2721754.jpg</td>\n      <td>1</td>\n    </tr>\n    <tr>\n      <th>1</th>\n      <td>118823.jpg</td>\n      <td>7574439.jpg</td>\n      <td>1</td>\n    </tr>\n    <tr>\n      <th>2</th>\n      <td>3287857.jpg</td>\n      <td>8880.jpg</td>\n      <td>1</td>\n    </tr>\n    <tr>\n      <th>3</th>\n      <td>2683097.jpg</td>\n      <td>136507.jpg</td>\n      <td>0</td>\n    </tr>\n    <tr>\n      <th>4</th>\n      <td>9273.jpg</td>\n      <td>3871724.jpg</td>\n      <td>0</td>\n    </tr>\n  </tbody>\n</table>\n</div>"
     },
     "metadata": {},
     "output_type": "display_data"
    },
    {
     "name": "stdout",
     "output_type": "stream",
     "text": [
      "\n",
      " (48455, 3)\n"
     ]
    },
    {
     "data": {
      "text/plain": "          img1         img2 label\n0  1070904.jpg  7083947.jpg     1\n1  2014013.jpg    68154.jpg     0\n2    14738.jpg    14738.jpg     1\n3  2163621.jpg    12907.jpg     1\n4  9236975.jpg   110513.jpg     1",
      "text/html": "<div>\n<style scoped>\n    .dataframe tbody tr th:only-of-type {\n        vertical-align: middle;\n    }\n\n    .dataframe tbody tr th {\n        vertical-align: top;\n    }\n\n    .dataframe thead th {\n        text-align: right;\n    }\n</style>\n<table border=\"1\" class=\"dataframe\">\n  <thead>\n    <tr style=\"text-align: right;\">\n      <th></th>\n      <th>img1</th>\n      <th>img2</th>\n      <th>label</th>\n    </tr>\n  </thead>\n  <tbody>\n    <tr>\n      <th>0</th>\n      <td>1070904.jpg</td>\n      <td>7083947.jpg</td>\n      <td>1</td>\n    </tr>\n    <tr>\n      <th>1</th>\n      <td>2014013.jpg</td>\n      <td>68154.jpg</td>\n      <td>0</td>\n    </tr>\n    <tr>\n      <th>2</th>\n      <td>14738.jpg</td>\n      <td>14738.jpg</td>\n      <td>1</td>\n    </tr>\n    <tr>\n      <th>3</th>\n      <td>2163621.jpg</td>\n      <td>12907.jpg</td>\n      <td>1</td>\n    </tr>\n    <tr>\n      <th>4</th>\n      <td>9236975.jpg</td>\n      <td>110513.jpg</td>\n      <td>1</td>\n    </tr>\n  </tbody>\n</table>\n</div>"
     },
     "metadata": {},
     "output_type": "display_data"
    }
   ],
   "source": [
    "print(train_dataset.shape)\n",
    "display(train_dataset.head())\n",
    "print('\\n', validation_dataset.shape)\n",
    "display(validation_dataset.head())"
   ],
   "metadata": {
    "collapsed": false,
    "ExecuteTime": {
     "end_time": "2023-08-31T09:20:29.417826100Z",
     "start_time": "2023-08-31T09:20:29.339693Z"
    }
   }
  },
  {
   "cell_type": "code",
   "execution_count": 72,
   "outputs": [],
   "source": [
    "train_dataset.to_csv('generated_datasets/train_dataset_small.csv')\n",
    "validation_dataset.to_csv('generated_datasets/validation_dataset_small.csv')"
   ],
   "metadata": {
    "collapsed": false,
    "ExecuteTime": {
     "end_time": "2023-08-31T01:07:11.185887600Z",
     "start_time": "2023-08-31T01:07:10.744360800Z"
    }
   }
  },
  {
   "cell_type": "code",
   "execution_count": null,
   "outputs": [],
   "source": [],
   "metadata": {
    "collapsed": false
   }
  }
 ],
 "metadata": {
  "kernelspec": {
   "display_name": "Python 3",
   "language": "python",
   "name": "python3"
  },
  "language_info": {
   "codemirror_mode": {
    "name": "ipython",
    "version": 2
   },
   "file_extension": ".py",
   "mimetype": "text/x-python",
   "name": "python",
   "nbconvert_exporter": "python",
   "pygments_lexer": "ipython2",
   "version": "2.7.6"
  }
 },
 "nbformat": 4,
 "nbformat_minor": 0
}
