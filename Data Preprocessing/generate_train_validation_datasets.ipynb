{
 "cells": [
  {
   "cell_type": "code",
   "execution_count": 13,
   "metadata": {
    "collapsed": true,
    "ExecuteTime": {
     "end_time": "2023-08-30T15:42:39.880149Z",
     "start_time": "2023-08-30T15:42:39.864500600Z"
    }
   },
   "outputs": [],
   "source": [
    "import pandas as pd\n",
    "import random"
   ]
  },
  {
   "cell_type": "code",
   "execution_count": 14,
   "outputs": [],
   "source": [
    "training_dataset_train = pd.read_csv('original_datasets/train.csv', low_memory=False)\n",
    "training_dataset_train.drop(['group'], axis=1, inplace=True)\n",
    "training_dataset_test = pd.read_csv('original_datasets/test.csv', low_memory=False)"
   ],
   "metadata": {
    "collapsed": false,
    "ExecuteTime": {
     "end_time": "2023-08-30T15:42:40.677321Z",
     "start_time": "2023-08-30T15:42:40.559657Z"
    }
   }
  },
  {
   "cell_type": "code",
   "execution_count": 15,
   "outputs": [
    {
     "data": {
      "text/plain": "              name  class\n51244  9397815.jpg   8969",
      "text/html": "<div>\n<style scoped>\n    .dataframe tbody tr th:only-of-type {\n        vertical-align: middle;\n    }\n\n    .dataframe tbody tr th {\n        vertical-align: top;\n    }\n\n    .dataframe thead th {\n        text-align: right;\n    }\n</style>\n<table border=\"1\" class=\"dataframe\">\n  <thead>\n    <tr style=\"text-align: right;\">\n      <th></th>\n      <th>name</th>\n      <th>class</th>\n    </tr>\n  </thead>\n  <tbody>\n    <tr>\n      <th>51244</th>\n      <td>9397815.jpg</td>\n      <td>8969</td>\n    </tr>\n  </tbody>\n</table>\n</div>"
     },
     "metadata": {},
     "output_type": "display_data"
    }
   ],
   "source": [
    "remove_rows = training_dataset_test[training_dataset_test['name'] == '9397815.jpg']\n",
    "display(remove_rows)"
   ],
   "metadata": {
    "collapsed": false,
    "ExecuteTime": {
     "end_time": "2023-08-30T15:42:41.578385400Z",
     "start_time": "2023-08-30T15:42:41.568123700Z"
    }
   }
  },
  {
   "cell_type": "code",
   "execution_count": 16,
   "outputs": [],
   "source": [
    "training_dataset_test = training_dataset_test[training_dataset_test['name'] != '9397815.jpg']"
   ],
   "metadata": {
    "collapsed": false,
    "ExecuteTime": {
     "end_time": "2023-08-30T15:42:42.651511900Z",
     "start_time": "2023-08-30T15:42:42.620093100Z"
    }
   }
  },
  {
   "cell_type": "code",
   "execution_count": 17,
   "outputs": [
    {
     "data": {
      "text/plain": "    name  class\n0  1.jpg      0\n1  2.jpg      0\n2  3.jpg      0\n3  4.jpg      0\n4  5.jpg      0",
      "text/html": "<div>\n<style scoped>\n    .dataframe tbody tr th:only-of-type {\n        vertical-align: middle;\n    }\n\n    .dataframe tbody tr th {\n        vertical-align: top;\n    }\n\n    .dataframe thead th {\n        text-align: right;\n    }\n</style>\n<table border=\"1\" class=\"dataframe\">\n  <thead>\n    <tr style=\"text-align: right;\">\n      <th></th>\n      <th>name</th>\n      <th>class</th>\n    </tr>\n  </thead>\n  <tbody>\n    <tr>\n      <th>0</th>\n      <td>1.jpg</td>\n      <td>0</td>\n    </tr>\n    <tr>\n      <th>1</th>\n      <td>2.jpg</td>\n      <td>0</td>\n    </tr>\n    <tr>\n      <th>2</th>\n      <td>3.jpg</td>\n      <td>0</td>\n    </tr>\n    <tr>\n      <th>3</th>\n      <td>4.jpg</td>\n      <td>0</td>\n    </tr>\n    <tr>\n      <th>4</th>\n      <td>5.jpg</td>\n      <td>0</td>\n    </tr>\n  </tbody>\n</table>\n</div>"
     },
     "metadata": {},
     "output_type": "display_data"
    },
    {
     "name": "stdout",
     "output_type": "stream",
     "text": [
      "(197306, 2)\n",
      "0\n"
     ]
    }
   ],
   "source": [
    "train_df = pd.concat([training_dataset_train, training_dataset_test])\n",
    "display(train_df.head())\n",
    "print(train_df.shape)\n",
    "print(train_df['name'].duplicated().sum())"
   ],
   "metadata": {
    "collapsed": false,
    "ExecuteTime": {
     "end_time": "2023-08-30T15:42:44.662729500Z",
     "start_time": "2023-08-30T15:42:44.620136200Z"
    }
   }
  },
  {
   "cell_type": "code",
   "execution_count": 12,
   "outputs": [
    {
     "ename": "KeyboardInterrupt",
     "evalue": "",
     "output_type": "error",
     "traceback": [
      "\u001B[1;31m---------------------------------------------------------------------------\u001B[0m",
      "\u001B[1;31mKeyboardInterrupt\u001B[0m                         Traceback (most recent call last)",
      "Cell \u001B[1;32mIn[12], line 31\u001B[0m\n\u001B[0;32m     29\u001B[0m         row_list\u001B[38;5;241m.\u001B[39mappend(row)\n\u001B[0;32m     30\u001B[0m     temp \u001B[38;5;241m=\u001B[39m pd\u001B[38;5;241m.\u001B[39mDataFrame(row_list, columns\u001B[38;5;241m=\u001B[39mdataset_columns)\n\u001B[1;32m---> 31\u001B[0m     dataset \u001B[38;5;241m=\u001B[39m \u001B[43mpd\u001B[49m\u001B[38;5;241;43m.\u001B[39;49m\u001B[43mconcat\u001B[49m\u001B[43m(\u001B[49m\u001B[43m[\u001B[49m\u001B[43mdataset\u001B[49m\u001B[43m,\u001B[49m\u001B[43m \u001B[49m\u001B[43mtemp\u001B[49m\u001B[43m]\u001B[49m\u001B[43m)\u001B[49m\n\u001B[0;32m     32\u001B[0m \u001B[38;5;28mprint\u001B[39m(dataset\u001B[38;5;241m.\u001B[39mshape)\n\u001B[0;32m     33\u001B[0m display(dataset\u001B[38;5;241m.\u001B[39mhead())\n",
      "File \u001B[1;32m~\\anaconda3\\envs\\visual-product-recognition\\lib\\site-packages\\pandas\\core\\reshape\\concat.py:385\u001B[0m, in \u001B[0;36mconcat\u001B[1;34m(objs, axis, join, ignore_index, keys, levels, names, verify_integrity, sort, copy)\u001B[0m\n\u001B[0;32m    370\u001B[0m     copy \u001B[38;5;241m=\u001B[39m \u001B[38;5;28;01mFalse\u001B[39;00m\n\u001B[0;32m    372\u001B[0m op \u001B[38;5;241m=\u001B[39m _Concatenator(\n\u001B[0;32m    373\u001B[0m     objs,\n\u001B[0;32m    374\u001B[0m     axis\u001B[38;5;241m=\u001B[39maxis,\n\u001B[1;32m   (...)\u001B[0m\n\u001B[0;32m    382\u001B[0m     sort\u001B[38;5;241m=\u001B[39msort,\n\u001B[0;32m    383\u001B[0m )\n\u001B[1;32m--> 385\u001B[0m \u001B[38;5;28;01mreturn\u001B[39;00m \u001B[43mop\u001B[49m\u001B[38;5;241;43m.\u001B[39;49m\u001B[43mget_result\u001B[49m\u001B[43m(\u001B[49m\u001B[43m)\u001B[49m\n",
      "File \u001B[1;32m~\\anaconda3\\envs\\visual-product-recognition\\lib\\site-packages\\pandas\\core\\reshape\\concat.py:616\u001B[0m, in \u001B[0;36m_Concatenator.get_result\u001B[1;34m(self)\u001B[0m\n\u001B[0;32m    612\u001B[0m             indexers[ax] \u001B[38;5;241m=\u001B[39m obj_labels\u001B[38;5;241m.\u001B[39mget_indexer(new_labels)\n\u001B[0;32m    614\u001B[0m     mgrs_indexers\u001B[38;5;241m.\u001B[39mappend((obj\u001B[38;5;241m.\u001B[39m_mgr, indexers))\n\u001B[1;32m--> 616\u001B[0m new_data \u001B[38;5;241m=\u001B[39m \u001B[43mconcatenate_managers\u001B[49m\u001B[43m(\u001B[49m\n\u001B[0;32m    617\u001B[0m \u001B[43m    \u001B[49m\u001B[43mmgrs_indexers\u001B[49m\u001B[43m,\u001B[49m\u001B[43m \u001B[49m\u001B[38;5;28;43mself\u001B[39;49m\u001B[38;5;241;43m.\u001B[39;49m\u001B[43mnew_axes\u001B[49m\u001B[43m,\u001B[49m\u001B[43m \u001B[49m\u001B[43mconcat_axis\u001B[49m\u001B[38;5;241;43m=\u001B[39;49m\u001B[38;5;28;43mself\u001B[39;49m\u001B[38;5;241;43m.\u001B[39;49m\u001B[43mbm_axis\u001B[49m\u001B[43m,\u001B[49m\u001B[43m \u001B[49m\u001B[43mcopy\u001B[49m\u001B[38;5;241;43m=\u001B[39;49m\u001B[38;5;28;43mself\u001B[39;49m\u001B[38;5;241;43m.\u001B[39;49m\u001B[43mcopy\u001B[49m\n\u001B[0;32m    618\u001B[0m \u001B[43m\u001B[49m\u001B[43m)\u001B[49m\n\u001B[0;32m    619\u001B[0m \u001B[38;5;28;01mif\u001B[39;00m \u001B[38;5;129;01mnot\u001B[39;00m \u001B[38;5;28mself\u001B[39m\u001B[38;5;241m.\u001B[39mcopy \u001B[38;5;129;01mand\u001B[39;00m \u001B[38;5;129;01mnot\u001B[39;00m using_copy_on_write():\n\u001B[0;32m    620\u001B[0m     new_data\u001B[38;5;241m.\u001B[39m_consolidate_inplace()\n",
      "File \u001B[1;32m~\\anaconda3\\envs\\visual-product-recognition\\lib\\site-packages\\pandas\\core\\internals\\concat.py:232\u001B[0m, in \u001B[0;36mconcatenate_managers\u001B[1;34m(mgrs_indexers, axes, concat_axis, copy)\u001B[0m\n\u001B[0;32m    226\u001B[0m vals \u001B[38;5;241m=\u001B[39m [ju\u001B[38;5;241m.\u001B[39mblock\u001B[38;5;241m.\u001B[39mvalues \u001B[38;5;28;01mfor\u001B[39;00m ju \u001B[38;5;129;01min\u001B[39;00m join_units]\n\u001B[0;32m    228\u001B[0m \u001B[38;5;28;01mif\u001B[39;00m \u001B[38;5;129;01mnot\u001B[39;00m blk\u001B[38;5;241m.\u001B[39mis_extension:\n\u001B[0;32m    229\u001B[0m     \u001B[38;5;66;03m# _is_uniform_join_units ensures a single dtype, so\u001B[39;00m\n\u001B[0;32m    230\u001B[0m     \u001B[38;5;66;03m#  we can use np.concatenate, which is more performant\u001B[39;00m\n\u001B[0;32m    231\u001B[0m     \u001B[38;5;66;03m#  than concat_compat\u001B[39;00m\n\u001B[1;32m--> 232\u001B[0m     values \u001B[38;5;241m=\u001B[39m \u001B[43mnp\u001B[49m\u001B[38;5;241;43m.\u001B[39;49m\u001B[43mconcatenate\u001B[49m\u001B[43m(\u001B[49m\u001B[43mvals\u001B[49m\u001B[43m,\u001B[49m\u001B[43m \u001B[49m\u001B[43maxis\u001B[49m\u001B[38;5;241;43m=\u001B[39;49m\u001B[38;5;241;43m1\u001B[39;49m\u001B[43m)\u001B[49m\n\u001B[0;32m    233\u001B[0m \u001B[38;5;28;01melse\u001B[39;00m:\n\u001B[0;32m    234\u001B[0m     \u001B[38;5;66;03m# TODO(EA2D): special-casing not needed with 2D EAs\u001B[39;00m\n\u001B[0;32m    235\u001B[0m     values \u001B[38;5;241m=\u001B[39m concat_compat(vals, axis\u001B[38;5;241m=\u001B[39m\u001B[38;5;241m1\u001B[39m)\n",
      "\u001B[1;31mKeyboardInterrupt\u001B[0m: "
     ]
    }
   ],
   "source": [
    "import itertools\n",
    "import math\n",
    "\n",
    "dataset_columns = ['img1', 'img2', 'label', 'class']\n",
    "dataset = pd.DataFrame(columns=dataset_columns)\n",
    "classes = train_df['class'].unique()\n",
    "number_of_images_per_class_to_use = 10\n",
    "tot_combs = math.factorial(number_of_images_per_class_to_use + 1) // (math.factorial(number_of_images_per_class_to_use - 1) * 2)\n",
    "use_over_sampling = False\n",
    "for class_ in classes:\n",
    "    images_of_class = train_df[train_df['class'] == class_]\n",
    "    sample_size = 0\n",
    "    num_images_in_class = len(images_of_class.index)\n",
    "    if num_images_in_class >= number_of_images_per_class_to_use:\n",
    "        sample_size = number_of_images_per_class_to_use\n",
    "    else:\n",
    "        sample_size = num_images_in_class\n",
    "    image_names = images_of_class['name'].tolist()\n",
    "    image_sample = random.sample(image_names, sample_size)\n",
    "    combs_with_replacement = list(itertools.combinations_with_replacement(image_sample, 2))\n",
    "    if use_over_sampling and sample_size < number_of_images_per_class_to_use:\n",
    "        num_combs = math.factorial(sample_size + 1) // (math.factorial(sample_size - 1) * 2)\n",
    "        number_of_combinations_needed = tot_combs - num_combs\n",
    "        oversample = random.choices(combs_with_replacement, k=number_of_combinations_needed)\n",
    "        combs_with_replacement += oversample\n",
    "    row_list = []\n",
    "    for comb in combs_with_replacement:\n",
    "        row = [comb[0], comb[1], 1, class_]\n",
    "        row_list.append(row)\n",
    "    temp = pd.DataFrame(row_list, columns=dataset_columns)\n",
    "    dataset = pd.concat([dataset, temp])\n",
    "print(dataset.shape)\n",
    "display(dataset.head())"
   ],
   "metadata": {
    "collapsed": false,
    "ExecuteTime": {
     "end_time": "2023-08-30T15:42:35.918429Z",
     "start_time": "2023-08-30T15:42:32.630880400Z"
    }
   }
  },
  {
   "cell_type": "code",
   "execution_count": 26,
   "outputs": [
    {
     "name": "stdout",
     "output_type": "stream",
     "text": [
      "(2907300, 4)\n"
     ]
    },
    {
     "data": {
      "text/plain": "    img1        img2 label class\n0  9.jpg  111821.jpg     0    -1\n1  9.jpg   63119.jpg     0    -1\n2  9.jpg   15639.jpg     0    -1\n3  9.jpg  100314.jpg     0    -1\n4  9.jpg    2466.jpg     0    -1",
      "text/html": "<div>\n<style scoped>\n    .dataframe tbody tr th:only-of-type {\n        vertical-align: middle;\n    }\n\n    .dataframe tbody tr th {\n        vertical-align: top;\n    }\n\n    .dataframe thead th {\n        text-align: right;\n    }\n</style>\n<table border=\"1\" class=\"dataframe\">\n  <thead>\n    <tr style=\"text-align: right;\">\n      <th></th>\n      <th>img1</th>\n      <th>img2</th>\n      <th>label</th>\n      <th>class</th>\n    </tr>\n  </thead>\n  <tbody>\n    <tr>\n      <th>0</th>\n      <td>9.jpg</td>\n      <td>111821.jpg</td>\n      <td>0</td>\n      <td>-1</td>\n    </tr>\n    <tr>\n      <th>1</th>\n      <td>9.jpg</td>\n      <td>63119.jpg</td>\n      <td>0</td>\n      <td>-1</td>\n    </tr>\n    <tr>\n      <th>2</th>\n      <td>9.jpg</td>\n      <td>15639.jpg</td>\n      <td>0</td>\n      <td>-1</td>\n    </tr>\n    <tr>\n      <th>3</th>\n      <td>9.jpg</td>\n      <td>100314.jpg</td>\n      <td>0</td>\n      <td>-1</td>\n    </tr>\n    <tr>\n      <th>4</th>\n      <td>9.jpg</td>\n      <td>2466.jpg</td>\n      <td>0</td>\n      <td>-1</td>\n    </tr>\n  </tbody>\n</table>\n</div>"
     },
     "metadata": {},
     "output_type": "display_data"
    }
   ],
   "source": [
    "filtered_train_df = train_df.copy()\n",
    "number_of_pivot_images = 3\n",
    "number_of_non_class_images_per_pivot = 100\n",
    "_dataset = pd.DataFrame(columns=dataset_columns)\n",
    "for class_ in classes:\n",
    "    images_of_class = filtered_train_df[filtered_train_df['class'] == class_]\n",
    "    images_not_of_class = filtered_train_df[filtered_train_df['class'] != class_]\n",
    "    if len(images_of_class.index) < number_of_pivot_images:\n",
    "        number_of_pivot_images = len(images_of_class.index)\n",
    "    if len(images_not_of_class.index) < number_of_non_class_images_per_pivot:\n",
    "        number_of_non_class_images_per_pivot = len(images_not_of_class.index)\n",
    "    image_names_of_class = images_of_class['name'].tolist()\n",
    "    image_names_not_of_class = images_not_of_class['name'].tolist()\n",
    "    pivot_images = random.sample(image_names_of_class, number_of_pivot_images)\n",
    "    row_list = []\n",
    "    for pivot_image in pivot_images:\n",
    "        for non_class_image in random.sample(image_names_not_of_class, number_of_non_class_images_per_pivot):\n",
    "            row = [pivot_image, non_class_image, 0, -1]\n",
    "            row_list.append(row)\n",
    "        filtered_train_df = filtered_train_df[filtered_train_df['name'] != pivot_image]\n",
    "    temp = pd.DataFrame(row_list, columns=dataset_columns)\n",
    "    _dataset = pd.concat([_dataset, temp])\n",
    "print(_dataset.shape)\n",
    "display(_dataset.head())"
   ],
   "metadata": {
    "collapsed": false,
    "ExecuteTime": {
     "end_time": "2023-08-29T17:26:06.520013600Z",
     "start_time": "2023-08-29T17:08:35.074933500Z"
    }
   }
  },
  {
   "cell_type": "code",
   "execution_count": 27,
   "outputs": [
    {
     "name": "stdout",
     "output_type": "stream",
     "text": [
      "(3408254, 4)\n"
     ]
    },
    {
     "data": {
      "text/plain": "     img1         img2 label class\n0  14.jpg       14.jpg     1     0\n1  14.jpg        6.jpg     1     0\n2  14.jpg        9.jpg     1     0\n3  14.jpg  6997109.jpg     1     0\n4  14.jpg  9561745.jpg     1     0",
      "text/html": "<div>\n<style scoped>\n    .dataframe tbody tr th:only-of-type {\n        vertical-align: middle;\n    }\n\n    .dataframe tbody tr th {\n        vertical-align: top;\n    }\n\n    .dataframe thead th {\n        text-align: right;\n    }\n</style>\n<table border=\"1\" class=\"dataframe\">\n  <thead>\n    <tr style=\"text-align: right;\">\n      <th></th>\n      <th>img1</th>\n      <th>img2</th>\n      <th>label</th>\n      <th>class</th>\n    </tr>\n  </thead>\n  <tbody>\n    <tr>\n      <th>0</th>\n      <td>14.jpg</td>\n      <td>14.jpg</td>\n      <td>1</td>\n      <td>0</td>\n    </tr>\n    <tr>\n      <th>1</th>\n      <td>14.jpg</td>\n      <td>6.jpg</td>\n      <td>1</td>\n      <td>0</td>\n    </tr>\n    <tr>\n      <th>2</th>\n      <td>14.jpg</td>\n      <td>9.jpg</td>\n      <td>1</td>\n      <td>0</td>\n    </tr>\n    <tr>\n      <th>3</th>\n      <td>14.jpg</td>\n      <td>6997109.jpg</td>\n      <td>1</td>\n      <td>0</td>\n    </tr>\n    <tr>\n      <th>4</th>\n      <td>14.jpg</td>\n      <td>9561745.jpg</td>\n      <td>1</td>\n      <td>0</td>\n    </tr>\n  </tbody>\n</table>\n</div>"
     },
     "metadata": {},
     "output_type": "display_data"
    }
   ],
   "source": [
    "final_train_and_validation_dataset = pd.concat([dataset, _dataset])\n",
    "print(final_train_and_validation_dataset.shape)\n",
    "display(final_train_and_validation_dataset.head())"
   ],
   "metadata": {
    "collapsed": false,
    "ExecuteTime": {
     "end_time": "2023-08-29T17:26:06.628530200Z",
     "start_time": "2023-08-29T17:26:06.523011200Z"
    }
   }
  },
  {
   "cell_type": "code",
   "execution_count": 28,
   "outputs": [],
   "source": [
    "final_train_and_validation_dataset.to_csv('generated_datasets/final_train_and_validation_dataset.csv')"
   ],
   "metadata": {
    "collapsed": false,
    "ExecuteTime": {
     "end_time": "2023-08-29T17:26:13.115426Z",
     "start_time": "2023-08-29T17:26:06.616530900Z"
    }
   }
  },
  {
   "cell_type": "code",
   "execution_count": null,
   "outputs": [],
   "source": [
    "# similar_dataset = dataset.copy()\n",
    "# non_similar_dataset = _dataset.copy()"
   ],
   "metadata": {
    "collapsed": false
   }
  },
  {
   "cell_type": "code",
   "execution_count": 30,
   "outputs": [
    {
     "data": {
      "text/plain": "   Unnamed: 0    img1         img2  label  class\n0           0  14.jpg       14.jpg      1      0\n1           1  14.jpg        6.jpg      1      0\n2           2  14.jpg        9.jpg      1      0\n3           3  14.jpg  6997109.jpg      1      0\n4           4  14.jpg  9561745.jpg      1      0",
      "text/html": "<div>\n<style scoped>\n    .dataframe tbody tr th:only-of-type {\n        vertical-align: middle;\n    }\n\n    .dataframe tbody tr th {\n        vertical-align: top;\n    }\n\n    .dataframe thead th {\n        text-align: right;\n    }\n</style>\n<table border=\"1\" class=\"dataframe\">\n  <thead>\n    <tr style=\"text-align: right;\">\n      <th></th>\n      <th>Unnamed: 0</th>\n      <th>img1</th>\n      <th>img2</th>\n      <th>label</th>\n      <th>class</th>\n    </tr>\n  </thead>\n  <tbody>\n    <tr>\n      <th>0</th>\n      <td>0</td>\n      <td>14.jpg</td>\n      <td>14.jpg</td>\n      <td>1</td>\n      <td>0</td>\n    </tr>\n    <tr>\n      <th>1</th>\n      <td>1</td>\n      <td>14.jpg</td>\n      <td>6.jpg</td>\n      <td>1</td>\n      <td>0</td>\n    </tr>\n    <tr>\n      <th>2</th>\n      <td>2</td>\n      <td>14.jpg</td>\n      <td>9.jpg</td>\n      <td>1</td>\n      <td>0</td>\n    </tr>\n    <tr>\n      <th>3</th>\n      <td>3</td>\n      <td>14.jpg</td>\n      <td>6997109.jpg</td>\n      <td>1</td>\n      <td>0</td>\n    </tr>\n    <tr>\n      <th>4</th>\n      <td>4</td>\n      <td>14.jpg</td>\n      <td>9561745.jpg</td>\n      <td>1</td>\n      <td>0</td>\n    </tr>\n  </tbody>\n</table>\n</div>"
     },
     "metadata": {},
     "output_type": "display_data"
    },
    {
     "data": {
      "text/plain": "        Unnamed: 0   img1        img2  label  class\n500954           0  9.jpg  111821.jpg      0     -1\n500955           1  9.jpg   63119.jpg      0     -1\n500956           2  9.jpg   15639.jpg      0     -1\n500957           3  9.jpg  100314.jpg      0     -1\n500958           4  9.jpg    2466.jpg      0     -1",
      "text/html": "<div>\n<style scoped>\n    .dataframe tbody tr th:only-of-type {\n        vertical-align: middle;\n    }\n\n    .dataframe tbody tr th {\n        vertical-align: top;\n    }\n\n    .dataframe thead th {\n        text-align: right;\n    }\n</style>\n<table border=\"1\" class=\"dataframe\">\n  <thead>\n    <tr style=\"text-align: right;\">\n      <th></th>\n      <th>Unnamed: 0</th>\n      <th>img1</th>\n      <th>img2</th>\n      <th>label</th>\n      <th>class</th>\n    </tr>\n  </thead>\n  <tbody>\n    <tr>\n      <th>500954</th>\n      <td>0</td>\n      <td>9.jpg</td>\n      <td>111821.jpg</td>\n      <td>0</td>\n      <td>-1</td>\n    </tr>\n    <tr>\n      <th>500955</th>\n      <td>1</td>\n      <td>9.jpg</td>\n      <td>63119.jpg</td>\n      <td>0</td>\n      <td>-1</td>\n    </tr>\n    <tr>\n      <th>500956</th>\n      <td>2</td>\n      <td>9.jpg</td>\n      <td>15639.jpg</td>\n      <td>0</td>\n      <td>-1</td>\n    </tr>\n    <tr>\n      <th>500957</th>\n      <td>3</td>\n      <td>9.jpg</td>\n      <td>100314.jpg</td>\n      <td>0</td>\n      <td>-1</td>\n    </tr>\n    <tr>\n      <th>500958</th>\n      <td>4</td>\n      <td>9.jpg</td>\n      <td>2466.jpg</td>\n      <td>0</td>\n      <td>-1</td>\n    </tr>\n  </tbody>\n</table>\n</div>"
     },
     "metadata": {},
     "output_type": "display_data"
    }
   ],
   "source": [
    "final_train_and_validation_dataset = pd.read_csv('generated_datasets/final_train_and_validation_dataset.csv', low_memory=False)\n",
    "similar_dataset = final_train_and_validation_dataset[final_train_and_validation_dataset['class'] != -1]\n",
    "non_similar_dataset =final_train_and_validation_dataset[final_train_and_validation_dataset['class'] == -1]\n",
    "display(similar_dataset.head())\n",
    "display(non_similar_dataset.head())\n",
    "\n",
    "dataset_columns = ['img1', 'img2', 'label', 'class']\n",
    "classes = train_df['class'].unique()"
   ],
   "metadata": {
    "collapsed": false,
    "ExecuteTime": {
     "end_time": "2023-08-30T15:58:51.386340300Z",
     "start_time": "2023-08-30T15:58:48.971009900Z"
    }
   }
  },
  {
   "cell_type": "code",
   "execution_count": 31,
   "outputs": [
    {
     "name": "stdout",
     "output_type": "stream",
     "text": [
      "(29073, 5)\n"
     ]
    },
    {
     "data": {
      "text/plain": "          img1         img2 label class  Unnamed: 0\n1  9561745.jpg       11.jpg     1     0        37.0\n2       14.jpg  8638678.jpg     1     0         6.0\n3  9561745.jpg  1209854.jpg     1     0        38.0\n1  4743831.jpg  3401546.jpg     1     1         7.0\n2       18.jpg       17.jpg     1     1        11.0",
      "text/html": "<div>\n<style scoped>\n    .dataframe tbody tr th:only-of-type {\n        vertical-align: middle;\n    }\n\n    .dataframe tbody tr th {\n        vertical-align: top;\n    }\n\n    .dataframe thead th {\n        text-align: right;\n    }\n</style>\n<table border=\"1\" class=\"dataframe\">\n  <thead>\n    <tr style=\"text-align: right;\">\n      <th></th>\n      <th>img1</th>\n      <th>img2</th>\n      <th>label</th>\n      <th>class</th>\n      <th>Unnamed: 0</th>\n    </tr>\n  </thead>\n  <tbody>\n    <tr>\n      <th>1</th>\n      <td>9561745.jpg</td>\n      <td>11.jpg</td>\n      <td>1</td>\n      <td>0</td>\n      <td>37.0</td>\n    </tr>\n    <tr>\n      <th>2</th>\n      <td>14.jpg</td>\n      <td>8638678.jpg</td>\n      <td>1</td>\n      <td>0</td>\n      <td>6.0</td>\n    </tr>\n    <tr>\n      <th>3</th>\n      <td>9561745.jpg</td>\n      <td>1209854.jpg</td>\n      <td>1</td>\n      <td>0</td>\n      <td>38.0</td>\n    </tr>\n    <tr>\n      <th>1</th>\n      <td>4743831.jpg</td>\n      <td>3401546.jpg</td>\n      <td>1</td>\n      <td>1</td>\n      <td>7.0</td>\n    </tr>\n    <tr>\n      <th>2</th>\n      <td>18.jpg</td>\n      <td>17.jpg</td>\n      <td>1</td>\n      <td>1</td>\n      <td>11.0</td>\n    </tr>\n  </tbody>\n</table>\n</div>"
     },
     "metadata": {},
     "output_type": "display_data"
    },
    {
     "name": "stdout",
     "output_type": "stream",
     "text": [
      "\n",
      " (9691, 5)\n"
     ]
    },
    {
     "data": {
      "text/plain": "          img1    img2 label class  Unnamed: 0\n0        9.jpg  11.jpg     1     0        24.0\n0       18.jpg  18.jpg     1     1         9.0\n0  1980843.jpg  22.jpg     1     2        21.0\n0       24.jpg  25.jpg     1     3        35.0\n0       34.jpg  31.jpg     1     4        30.0",
      "text/html": "<div>\n<style scoped>\n    .dataframe tbody tr th:only-of-type {\n        vertical-align: middle;\n    }\n\n    .dataframe tbody tr th {\n        vertical-align: top;\n    }\n\n    .dataframe thead th {\n        text-align: right;\n    }\n</style>\n<table border=\"1\" class=\"dataframe\">\n  <thead>\n    <tr style=\"text-align: right;\">\n      <th></th>\n      <th>img1</th>\n      <th>img2</th>\n      <th>label</th>\n      <th>class</th>\n      <th>Unnamed: 0</th>\n    </tr>\n  </thead>\n  <tbody>\n    <tr>\n      <th>0</th>\n      <td>9.jpg</td>\n      <td>11.jpg</td>\n      <td>1</td>\n      <td>0</td>\n      <td>24.0</td>\n    </tr>\n    <tr>\n      <th>0</th>\n      <td>18.jpg</td>\n      <td>18.jpg</td>\n      <td>1</td>\n      <td>1</td>\n      <td>9.0</td>\n    </tr>\n    <tr>\n      <th>0</th>\n      <td>1980843.jpg</td>\n      <td>22.jpg</td>\n      <td>1</td>\n      <td>2</td>\n      <td>21.0</td>\n    </tr>\n    <tr>\n      <th>0</th>\n      <td>24.jpg</td>\n      <td>25.jpg</td>\n      <td>1</td>\n      <td>3</td>\n      <td>35.0</td>\n    </tr>\n    <tr>\n      <th>0</th>\n      <td>34.jpg</td>\n      <td>31.jpg</td>\n      <td>1</td>\n      <td>4</td>\n      <td>30.0</td>\n    </tr>\n  </tbody>\n</table>\n</div>"
     },
     "metadata": {},
     "output_type": "display_data"
    }
   ],
   "source": [
    "num_rows_from_class_for_validation = 1\n",
    "num_rows_from_class_for_train = 3\n",
    "train_dataset = pd.DataFrame(columns=dataset_columns)\n",
    "validation_dataset = pd.DataFrame(columns=dataset_columns)\n",
    "for class_ in classes:\n",
    "    images_of_class = similar_dataset[similar_dataset['class'] == class_]\n",
    "    images_of_class = images_of_class.sample(frac=1).reset_index(drop=True)\n",
    "    val_temp = images_of_class.iloc[:num_rows_from_class_for_validation]\n",
    "    if len(images_of_class.index) - num_rows_from_class_for_validation < num_rows_from_class_for_train:\n",
    "        train_temp = images_of_class.iloc[num_rows_from_class_for_validation:]\n",
    "    else:\n",
    "        train_temp = images_of_class.iloc[num_rows_from_class_for_validation:(num_rows_from_class_for_train + num_rows_from_class_for_validation)]\n",
    "    train_dataset = pd.concat([train_dataset, train_temp])\n",
    "    validation_dataset = pd.concat([validation_dataset, val_temp])\n",
    "print(train_dataset.shape)\n",
    "display(train_dataset.head())\n",
    "print('\\n', validation_dataset.shape)\n",
    "display(validation_dataset.head())"
   ],
   "metadata": {
    "collapsed": false,
    "ExecuteTime": {
     "end_time": "2023-08-30T15:59:19.077069100Z",
     "start_time": "2023-08-30T15:58:51.386340300Z"
    }
   }
  },
  {
   "cell_type": "code",
   "execution_count": 32,
   "outputs": [
    {
     "name": "stdout",
     "output_type": "stream",
     "text": [
      "(116292, 5)\n"
     ]
    },
    {
     "data": {
      "text/plain": "          img1         img2 label class  Unnamed: 0\n1  9561745.jpg       11.jpg     1     0        37.0\n2       14.jpg  8638678.jpg     1     0         6.0\n3  9561745.jpg  1209854.jpg     1     0        38.0\n1  4743831.jpg  3401546.jpg     1     1         7.0\n2       18.jpg       17.jpg     1     1        11.0",
      "text/html": "<div>\n<style scoped>\n    .dataframe tbody tr th:only-of-type {\n        vertical-align: middle;\n    }\n\n    .dataframe tbody tr th {\n        vertical-align: top;\n    }\n\n    .dataframe thead th {\n        text-align: right;\n    }\n</style>\n<table border=\"1\" class=\"dataframe\">\n  <thead>\n    <tr style=\"text-align: right;\">\n      <th></th>\n      <th>img1</th>\n      <th>img2</th>\n      <th>label</th>\n      <th>class</th>\n      <th>Unnamed: 0</th>\n    </tr>\n  </thead>\n  <tbody>\n    <tr>\n      <th>1</th>\n      <td>9561745.jpg</td>\n      <td>11.jpg</td>\n      <td>1</td>\n      <td>0</td>\n      <td>37.0</td>\n    </tr>\n    <tr>\n      <th>2</th>\n      <td>14.jpg</td>\n      <td>8638678.jpg</td>\n      <td>1</td>\n      <td>0</td>\n      <td>6.0</td>\n    </tr>\n    <tr>\n      <th>3</th>\n      <td>9561745.jpg</td>\n      <td>1209854.jpg</td>\n      <td>1</td>\n      <td>0</td>\n      <td>38.0</td>\n    </tr>\n    <tr>\n      <th>1</th>\n      <td>4743831.jpg</td>\n      <td>3401546.jpg</td>\n      <td>1</td>\n      <td>1</td>\n      <td>7.0</td>\n    </tr>\n    <tr>\n      <th>2</th>\n      <td>18.jpg</td>\n      <td>17.jpg</td>\n      <td>1</td>\n      <td>1</td>\n      <td>11.0</td>\n    </tr>\n  </tbody>\n</table>\n</div>"
     },
     "metadata": {},
     "output_type": "display_data"
    },
    {
     "name": "stdout",
     "output_type": "stream",
     "text": [
      "\n",
      " (38764, 5)\n"
     ]
    },
    {
     "data": {
      "text/plain": "          img1    img2 label class  Unnamed: 0\n0        9.jpg  11.jpg     1     0        24.0\n0       18.jpg  18.jpg     1     1         9.0\n0  1980843.jpg  22.jpg     1     2        21.0\n0       24.jpg  25.jpg     1     3        35.0\n0       34.jpg  31.jpg     1     4        30.0",
      "text/html": "<div>\n<style scoped>\n    .dataframe tbody tr th:only-of-type {\n        vertical-align: middle;\n    }\n\n    .dataframe tbody tr th {\n        vertical-align: top;\n    }\n\n    .dataframe thead th {\n        text-align: right;\n    }\n</style>\n<table border=\"1\" class=\"dataframe\">\n  <thead>\n    <tr style=\"text-align: right;\">\n      <th></th>\n      <th>img1</th>\n      <th>img2</th>\n      <th>label</th>\n      <th>class</th>\n      <th>Unnamed: 0</th>\n    </tr>\n  </thead>\n  <tbody>\n    <tr>\n      <th>0</th>\n      <td>9.jpg</td>\n      <td>11.jpg</td>\n      <td>1</td>\n      <td>0</td>\n      <td>24.0</td>\n    </tr>\n    <tr>\n      <th>0</th>\n      <td>18.jpg</td>\n      <td>18.jpg</td>\n      <td>1</td>\n      <td>1</td>\n      <td>9.0</td>\n    </tr>\n    <tr>\n      <th>0</th>\n      <td>1980843.jpg</td>\n      <td>22.jpg</td>\n      <td>1</td>\n      <td>2</td>\n      <td>21.0</td>\n    </tr>\n    <tr>\n      <th>0</th>\n      <td>24.jpg</td>\n      <td>25.jpg</td>\n      <td>1</td>\n      <td>3</td>\n      <td>35.0</td>\n    </tr>\n    <tr>\n      <th>0</th>\n      <td>34.jpg</td>\n      <td>31.jpg</td>\n      <td>1</td>\n      <td>4</td>\n      <td>30.0</td>\n    </tr>\n  </tbody>\n</table>\n</div>"
     },
     "metadata": {},
     "output_type": "display_data"
    }
   ],
   "source": [
    "num_rows_for_validation = 29073\n",
    "num_rows_for_train = 87219\n",
    "non_similar_dataset = non_similar_dataset.sample(frac=1).reset_index(drop=True)\n",
    "val_temp = non_similar_dataset.iloc[:num_rows_for_validation]\n",
    "train_temp = non_similar_dataset.iloc[num_rows_for_validation:(num_rows_for_train + num_rows_for_validation)]\n",
    "validation_dataset = pd.concat([validation_dataset, val_temp])\n",
    "train_dataset = pd.concat([train_dataset, train_temp])\n",
    "print(train_dataset.shape)\n",
    "display(train_dataset.head())\n",
    "print('\\n', validation_dataset.shape)\n",
    "display(validation_dataset.head())"
   ],
   "metadata": {
    "collapsed": false,
    "ExecuteTime": {
     "end_time": "2023-08-30T15:59:19.832562900Z",
     "start_time": "2023-08-30T15:59:19.077069100Z"
    }
   }
  },
  {
   "cell_type": "code",
   "execution_count": 33,
   "outputs": [],
   "source": [
    "for i in range(10):\n",
    "    train_dataset = train_dataset.sample(frac=1).reset_index(drop=True)\n",
    "    validation_dataset = validation_dataset.sample(frac=1).reset_index(drop=True)\n",
    "train_dataset.drop(['class'], axis=1, inplace=True)\n",
    "validation_dataset.drop(['class'], axis = 1, inplace=True)"
   ],
   "metadata": {
    "collapsed": false,
    "ExecuteTime": {
     "end_time": "2023-08-30T15:59:20.188835400Z",
     "start_time": "2023-08-30T15:59:19.801329700Z"
    }
   }
  },
  {
   "cell_type": "code",
   "execution_count": 34,
   "outputs": [
    {
     "name": "stdout",
     "output_type": "stream",
     "text": [
      "(116292, 4)\n"
     ]
    },
    {
     "data": {
      "text/plain": "          img1         img2 label  Unnamed: 0\n0   121775.jpg    81278.jpg     0        61.0\n1    30882.jpg    29588.jpg     0         9.0\n2   105632.jpg  7980569.jpg     0        36.0\n3  1768365.jpg    20387.jpg     1        48.0\n4  2068526.jpg  8181825.jpg     0       100.0",
      "text/html": "<div>\n<style scoped>\n    .dataframe tbody tr th:only-of-type {\n        vertical-align: middle;\n    }\n\n    .dataframe tbody tr th {\n        vertical-align: top;\n    }\n\n    .dataframe thead th {\n        text-align: right;\n    }\n</style>\n<table border=\"1\" class=\"dataframe\">\n  <thead>\n    <tr style=\"text-align: right;\">\n      <th></th>\n      <th>img1</th>\n      <th>img2</th>\n      <th>label</th>\n      <th>Unnamed: 0</th>\n    </tr>\n  </thead>\n  <tbody>\n    <tr>\n      <th>0</th>\n      <td>121775.jpg</td>\n      <td>81278.jpg</td>\n      <td>0</td>\n      <td>61.0</td>\n    </tr>\n    <tr>\n      <th>1</th>\n      <td>30882.jpg</td>\n      <td>29588.jpg</td>\n      <td>0</td>\n      <td>9.0</td>\n    </tr>\n    <tr>\n      <th>2</th>\n      <td>105632.jpg</td>\n      <td>7980569.jpg</td>\n      <td>0</td>\n      <td>36.0</td>\n    </tr>\n    <tr>\n      <th>3</th>\n      <td>1768365.jpg</td>\n      <td>20387.jpg</td>\n      <td>1</td>\n      <td>48.0</td>\n    </tr>\n    <tr>\n      <th>4</th>\n      <td>2068526.jpg</td>\n      <td>8181825.jpg</td>\n      <td>0</td>\n      <td>100.0</td>\n    </tr>\n  </tbody>\n</table>\n</div>"
     },
     "metadata": {},
     "output_type": "display_data"
    },
    {
     "name": "stdout",
     "output_type": "stream",
     "text": [
      "\n",
      " (38764, 4)\n"
     ]
    },
    {
     "data": {
      "text/plain": "          img1         img2 label  Unnamed: 0\n0  4891756.jpg  3285617.jpg     0       171.0\n1    88432.jpg    62124.jpg     0        71.0\n2    78348.jpg    54454.jpg     0       178.0\n3   135295.jpg    89415.jpg     0       226.0\n4  4857222.jpg  7231655.jpg     1         5.0",
      "text/html": "<div>\n<style scoped>\n    .dataframe tbody tr th:only-of-type {\n        vertical-align: middle;\n    }\n\n    .dataframe tbody tr th {\n        vertical-align: top;\n    }\n\n    .dataframe thead th {\n        text-align: right;\n    }\n</style>\n<table border=\"1\" class=\"dataframe\">\n  <thead>\n    <tr style=\"text-align: right;\">\n      <th></th>\n      <th>img1</th>\n      <th>img2</th>\n      <th>label</th>\n      <th>Unnamed: 0</th>\n    </tr>\n  </thead>\n  <tbody>\n    <tr>\n      <th>0</th>\n      <td>4891756.jpg</td>\n      <td>3285617.jpg</td>\n      <td>0</td>\n      <td>171.0</td>\n    </tr>\n    <tr>\n      <th>1</th>\n      <td>88432.jpg</td>\n      <td>62124.jpg</td>\n      <td>0</td>\n      <td>71.0</td>\n    </tr>\n    <tr>\n      <th>2</th>\n      <td>78348.jpg</td>\n      <td>54454.jpg</td>\n      <td>0</td>\n      <td>178.0</td>\n    </tr>\n    <tr>\n      <th>3</th>\n      <td>135295.jpg</td>\n      <td>89415.jpg</td>\n      <td>0</td>\n      <td>226.0</td>\n    </tr>\n    <tr>\n      <th>4</th>\n      <td>4857222.jpg</td>\n      <td>7231655.jpg</td>\n      <td>1</td>\n      <td>5.0</td>\n    </tr>\n  </tbody>\n</table>\n</div>"
     },
     "metadata": {},
     "output_type": "display_data"
    }
   ],
   "source": [
    "print(train_dataset.shape)\n",
    "display(train_dataset.head())\n",
    "print('\\n', validation_dataset.shape)\n",
    "display(validation_dataset.head())"
   ],
   "metadata": {
    "collapsed": false,
    "ExecuteTime": {
     "end_time": "2023-08-30T15:59:20.204451900Z",
     "start_time": "2023-08-30T15:59:20.188835400Z"
    }
   }
  },
  {
   "cell_type": "code",
   "execution_count": 35,
   "outputs": [],
   "source": [
    "train_dataset.to_csv('generated_datasets/train_dataset_small.csv')\n",
    "validation_dataset.to_csv('generated_datasets/validation_dataset_small.csv')"
   ],
   "metadata": {
    "collapsed": false,
    "ExecuteTime": {
     "end_time": "2023-08-30T15:59:20.582344100Z",
     "start_time": "2023-08-30T15:59:20.204451900Z"
    }
   }
  },
  {
   "cell_type": "code",
   "execution_count": null,
   "outputs": [],
   "source": [],
   "metadata": {
    "collapsed": false
   }
  }
 ],
 "metadata": {
  "kernelspec": {
   "display_name": "Python 3",
   "language": "python",
   "name": "python3"
  },
  "language_info": {
   "codemirror_mode": {
    "name": "ipython",
    "version": 2
   },
   "file_extension": ".py",
   "mimetype": "text/x-python",
   "name": "python",
   "nbconvert_exporter": "python",
   "pygments_lexer": "ipython2",
   "version": "2.7.6"
  }
 },
 "nbformat": 4,
 "nbformat_minor": 0
}
